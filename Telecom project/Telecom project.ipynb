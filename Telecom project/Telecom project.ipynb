{
 "cells": [
  {
   "cell_type": "markdown",
   "metadata": {},
   "source": [
    "# Telecom project: Identifying Ineffective Operators"
   ]
  },
  {
   "cell_type": "markdown",
   "metadata": {},
   "source": [
    "<strong>Goal</strong>: to identify ineffective operators in the virtual telephony service CallMeMaybe based on:\n",
    "- the number of missed calls,\n",
    "- waiting time for incoming calls,\n",
    "- number of outgoing calls (if it is relevant for a particular operator). \n",
    "\n",
    "\n",
    " * [Data preprocessing](#chapter1)\n",
    " * [EDA](#chapter2)\n",
    " * [Hypotheses testing](#chapter3)\n",
    " * [Applying machine learning](#chapter4)\n",
    " * [Conclusions and recommendations](#chapter5)"
   ]
  },
  {
   "cell_type": "markdown",
   "metadata": {},
   "source": [
    "## Data preprocessing <a class=\"anchor\" id=\"chapter1\"></a>"
   ]
  },
  {
   "cell_type": "markdown",
   "metadata": {},
   "source": [
    "### General information about datasets\n"
   ]
  },
  {
   "cell_type": "code",
   "execution_count": 1,
   "metadata": {},
   "outputs": [],
   "source": [
    "import pandas as pd\n",
    "import numpy as np\n",
    "import seaborn as sns\n",
    "import matplotlib.pyplot as plt\n",
    "from scipy import stats as st\n",
    "from sklearn.preprocessing import StandardScaler\n",
    "from scipy.cluster.hierarchy import dendrogram, linkage \n",
    "from sklearn.cluster import KMeans\n",
    "\n"
   ]
  },
  {
   "cell_type": "code",
   "execution_count": 2,
   "metadata": {},
   "outputs": [
    {
     "name": "stdout",
     "output_type": "stream",
     "text": [
      "Defaulting to user installation because normal site-packages is not writeable\n",
      "Collecting seaborn\n",
      "  Downloading seaborn-0.11.1-py3-none-any.whl (285 kB)\n",
      "\u001b[K     |████████████████████████████████| 285 kB 1.2 MB/s eta 0:00:01\n",
      "\u001b[?25hRequirement already satisfied, skipping upgrade: scipy>=1.0 in /opt/conda/lib/python3.7/site-packages (from seaborn) (1.4.1)\n",
      "Requirement already satisfied, skipping upgrade: matplotlib>=2.2 in /opt/conda/lib/python3.7/site-packages (from seaborn) (3.1.0)\n",
      "Requirement already satisfied, skipping upgrade: pandas>=0.23 in /opt/conda/lib/python3.7/site-packages (from seaborn) (0.25.1)\n",
      "Requirement already satisfied, skipping upgrade: numpy>=1.15 in /opt/conda/lib/python3.7/site-packages (from seaborn) (1.19.5)\n",
      "Requirement already satisfied, skipping upgrade: cycler>=0.10 in /opt/conda/lib/python3.7/site-packages (from matplotlib>=2.2->seaborn) (0.10.0)\n",
      "Requirement already satisfied, skipping upgrade: kiwisolver>=1.0.1 in /opt/conda/lib/python3.7/site-packages (from matplotlib>=2.2->seaborn) (1.3.1)\n",
      "Requirement already satisfied, skipping upgrade: python-dateutil>=2.1 in /opt/conda/lib/python3.7/site-packages (from matplotlib>=2.2->seaborn) (2.8.1)\n",
      "Requirement already satisfied, skipping upgrade: pyparsing!=2.0.4,!=2.1.2,!=2.1.6,>=2.0.1 in /opt/conda/lib/python3.7/site-packages (from matplotlib>=2.2->seaborn) (2.4.7)\n",
      "Requirement already satisfied, skipping upgrade: pytz>=2017.2 in /opt/conda/lib/python3.7/site-packages (from pandas>=0.23->seaborn) (2021.1)\n",
      "Requirement already satisfied, skipping upgrade: six in /opt/conda/lib/python3.7/site-packages (from cycler>=0.10->matplotlib>=2.2->seaborn) (1.15.0)\n",
      "Installing collected packages: seaborn\n",
      "Successfully installed seaborn-0.11.1\n"
     ]
    }
   ],
   "source": [
    "!pip install seaborn --upgrade\n"
   ]
  },
  {
   "cell_type": "code",
   "execution_count": 3,
   "metadata": {},
   "outputs": [],
   "source": [
    "import sys\n",
    "import warnings\n",
    "if not sys.warnoptions:\n",
    "       warnings.simplefilter(\"ignore\")"
   ]
  },
  {
   "cell_type": "code",
   "execution_count": 4,
   "metadata": {},
   "outputs": [
    {
     "data": {
      "text/html": [
       "<div>\n",
       "<style scoped>\n",
       "    .dataframe tbody tr th:only-of-type {\n",
       "        vertical-align: middle;\n",
       "    }\n",
       "\n",
       "    .dataframe tbody tr th {\n",
       "        vertical-align: top;\n",
       "    }\n",
       "\n",
       "    .dataframe thead th {\n",
       "        text-align: right;\n",
       "    }\n",
       "</style>\n",
       "<table border=\"1\" class=\"dataframe\">\n",
       "  <thead>\n",
       "    <tr style=\"text-align: right;\">\n",
       "      <th></th>\n",
       "      <th>user_id</th>\n",
       "      <th>date</th>\n",
       "      <th>direction</th>\n",
       "      <th>internal</th>\n",
       "      <th>operator_id</th>\n",
       "      <th>is_missed_call</th>\n",
       "      <th>calls_count</th>\n",
       "      <th>call_duration</th>\n",
       "      <th>total_call_duration</th>\n",
       "    </tr>\n",
       "  </thead>\n",
       "  <tbody>\n",
       "    <tr>\n",
       "      <td>0</td>\n",
       "      <td>166377</td>\n",
       "      <td>2019-08-04 00:00:00+03:00</td>\n",
       "      <td>in</td>\n",
       "      <td>False</td>\n",
       "      <td>NaN</td>\n",
       "      <td>True</td>\n",
       "      <td>2</td>\n",
       "      <td>0</td>\n",
       "      <td>4</td>\n",
       "    </tr>\n",
       "    <tr>\n",
       "      <td>1</td>\n",
       "      <td>166377</td>\n",
       "      <td>2019-08-05 00:00:00+03:00</td>\n",
       "      <td>out</td>\n",
       "      <td>True</td>\n",
       "      <td>880022.0</td>\n",
       "      <td>True</td>\n",
       "      <td>3</td>\n",
       "      <td>0</td>\n",
       "      <td>5</td>\n",
       "    </tr>\n",
       "    <tr>\n",
       "      <td>2</td>\n",
       "      <td>166377</td>\n",
       "      <td>2019-08-05 00:00:00+03:00</td>\n",
       "      <td>out</td>\n",
       "      <td>True</td>\n",
       "      <td>880020.0</td>\n",
       "      <td>True</td>\n",
       "      <td>1</td>\n",
       "      <td>0</td>\n",
       "      <td>1</td>\n",
       "    </tr>\n",
       "    <tr>\n",
       "      <td>3</td>\n",
       "      <td>166377</td>\n",
       "      <td>2019-08-05 00:00:00+03:00</td>\n",
       "      <td>out</td>\n",
       "      <td>True</td>\n",
       "      <td>880020.0</td>\n",
       "      <td>False</td>\n",
       "      <td>1</td>\n",
       "      <td>10</td>\n",
       "      <td>18</td>\n",
       "    </tr>\n",
       "    <tr>\n",
       "      <td>4</td>\n",
       "      <td>166377</td>\n",
       "      <td>2019-08-05 00:00:00+03:00</td>\n",
       "      <td>out</td>\n",
       "      <td>False</td>\n",
       "      <td>880022.0</td>\n",
       "      <td>True</td>\n",
       "      <td>3</td>\n",
       "      <td>0</td>\n",
       "      <td>25</td>\n",
       "    </tr>\n",
       "  </tbody>\n",
       "</table>\n",
       "</div>"
      ],
      "text/plain": [
       "   user_id                       date direction internal  operator_id  \\\n",
       "0   166377  2019-08-04 00:00:00+03:00        in    False          NaN   \n",
       "1   166377  2019-08-05 00:00:00+03:00       out     True     880022.0   \n",
       "2   166377  2019-08-05 00:00:00+03:00       out     True     880020.0   \n",
       "3   166377  2019-08-05 00:00:00+03:00       out     True     880020.0   \n",
       "4   166377  2019-08-05 00:00:00+03:00       out    False     880022.0   \n",
       "\n",
       "   is_missed_call  calls_count  call_duration  total_call_duration  \n",
       "0            True            2              0                    4  \n",
       "1            True            3              0                    5  \n",
       "2            True            1              0                    1  \n",
       "3           False            1             10                   18  \n",
       "4            True            3              0                   25  "
      ]
     },
     "metadata": {},
     "output_type": "display_data"
    },
    {
     "name": "stdout",
     "output_type": "stream",
     "text": [
      "<class 'pandas.core.frame.DataFrame'>\n",
      "RangeIndex: 53902 entries, 0 to 53901\n",
      "Data columns (total 9 columns):\n",
      "user_id                53902 non-null int64\n",
      "date                   53902 non-null object\n",
      "direction              53902 non-null object\n",
      "internal               53785 non-null object\n",
      "operator_id            45730 non-null float64\n",
      "is_missed_call         53902 non-null bool\n",
      "calls_count            53902 non-null int64\n",
      "call_duration          53902 non-null int64\n",
      "total_call_duration    53902 non-null int64\n",
      "dtypes: bool(1), float64(1), int64(4), object(3)\n",
      "memory usage: 3.3+ MB\n"
     ]
    },
    {
     "data": {
      "text/plain": [
       "None"
      ]
     },
     "metadata": {},
     "output_type": "display_data"
    },
    {
     "data": {
      "text/html": [
       "<div>\n",
       "<style scoped>\n",
       "    .dataframe tbody tr th:only-of-type {\n",
       "        vertical-align: middle;\n",
       "    }\n",
       "\n",
       "    .dataframe tbody tr th {\n",
       "        vertical-align: top;\n",
       "    }\n",
       "\n",
       "    .dataframe thead th {\n",
       "        text-align: right;\n",
       "    }\n",
       "</style>\n",
       "<table border=\"1\" class=\"dataframe\">\n",
       "  <thead>\n",
       "    <tr style=\"text-align: right;\">\n",
       "      <th></th>\n",
       "      <th>user_id</th>\n",
       "      <th>operator_id</th>\n",
       "      <th>calls_count</th>\n",
       "      <th>call_duration</th>\n",
       "      <th>total_call_duration</th>\n",
       "    </tr>\n",
       "  </thead>\n",
       "  <tbody>\n",
       "    <tr>\n",
       "      <td>count</td>\n",
       "      <td>53902.000000</td>\n",
       "      <td>45730.000000</td>\n",
       "      <td>53902.000000</td>\n",
       "      <td>53902.000000</td>\n",
       "      <td>53902.000000</td>\n",
       "    </tr>\n",
       "    <tr>\n",
       "      <td>mean</td>\n",
       "      <td>167295.344477</td>\n",
       "      <td>916535.993002</td>\n",
       "      <td>16.451245</td>\n",
       "      <td>866.684427</td>\n",
       "      <td>1157.133297</td>\n",
       "    </tr>\n",
       "    <tr>\n",
       "      <td>std</td>\n",
       "      <td>598.883775</td>\n",
       "      <td>21254.123136</td>\n",
       "      <td>62.917170</td>\n",
       "      <td>3731.791202</td>\n",
       "      <td>4403.468763</td>\n",
       "    </tr>\n",
       "    <tr>\n",
       "      <td>min</td>\n",
       "      <td>166377.000000</td>\n",
       "      <td>879896.000000</td>\n",
       "      <td>1.000000</td>\n",
       "      <td>0.000000</td>\n",
       "      <td>0.000000</td>\n",
       "    </tr>\n",
       "    <tr>\n",
       "      <td>25%</td>\n",
       "      <td>166782.000000</td>\n",
       "      <td>900788.000000</td>\n",
       "      <td>1.000000</td>\n",
       "      <td>0.000000</td>\n",
       "      <td>47.000000</td>\n",
       "    </tr>\n",
       "    <tr>\n",
       "      <td>50%</td>\n",
       "      <td>167162.000000</td>\n",
       "      <td>913938.000000</td>\n",
       "      <td>4.000000</td>\n",
       "      <td>38.000000</td>\n",
       "      <td>210.000000</td>\n",
       "    </tr>\n",
       "    <tr>\n",
       "      <td>75%</td>\n",
       "      <td>167819.000000</td>\n",
       "      <td>937708.000000</td>\n",
       "      <td>12.000000</td>\n",
       "      <td>572.000000</td>\n",
       "      <td>902.000000</td>\n",
       "    </tr>\n",
       "    <tr>\n",
       "      <td>max</td>\n",
       "      <td>168606.000000</td>\n",
       "      <td>973286.000000</td>\n",
       "      <td>4817.000000</td>\n",
       "      <td>144395.000000</td>\n",
       "      <td>166155.000000</td>\n",
       "    </tr>\n",
       "  </tbody>\n",
       "</table>\n",
       "</div>"
      ],
      "text/plain": [
       "             user_id    operator_id   calls_count  call_duration  \\\n",
       "count   53902.000000   45730.000000  53902.000000   53902.000000   \n",
       "mean   167295.344477  916535.993002     16.451245     866.684427   \n",
       "std       598.883775   21254.123136     62.917170    3731.791202   \n",
       "min    166377.000000  879896.000000      1.000000       0.000000   \n",
       "25%    166782.000000  900788.000000      1.000000       0.000000   \n",
       "50%    167162.000000  913938.000000      4.000000      38.000000   \n",
       "75%    167819.000000  937708.000000     12.000000     572.000000   \n",
       "max    168606.000000  973286.000000   4817.000000  144395.000000   \n",
       "\n",
       "       total_call_duration  \n",
       "count         53902.000000  \n",
       "mean           1157.133297  \n",
       "std            4403.468763  \n",
       "min               0.000000  \n",
       "25%              47.000000  \n",
       "50%             210.000000  \n",
       "75%             902.000000  \n",
       "max          166155.000000  "
      ]
     },
     "metadata": {},
     "output_type": "display_data"
    }
   ],
   "source": [
    "main_dataset = pd.read_csv('/datasets/telecom_dataset_us.csv')\n",
    "clients = pd.read_csv('/datasets/telecom_clients_us.csv')\n",
    "display(main_dataset.head())\n",
    "display(main_dataset.info())\n",
    "display(main_dataset.describe())"
   ]
  },
  {
   "cell_type": "markdown",
   "metadata": {},
   "source": [
    "<div style=\"background-color:rgb(202, 225, 246); text-align:left; border-style: dotted solid; vertical-align: middle; padding:20px 10px;\">\n",
    "As one may notice, there are explicit NaN values in operator_id and internal categories. In addition, some columns (date, internal) should be converted to the appropriate data types. It should be mentioned that there are at least 25% zero values in call_duration category. I assume that these values indicate missed calls (will be checked later).\n",
    "</div>"
   ]
  },
  {
   "cell_type": "code",
   "execution_count": 5,
   "metadata": {},
   "outputs": [
    {
     "data": {
      "text/html": [
       "<div>\n",
       "<style scoped>\n",
       "    .dataframe tbody tr th:only-of-type {\n",
       "        vertical-align: middle;\n",
       "    }\n",
       "\n",
       "    .dataframe tbody tr th {\n",
       "        vertical-align: top;\n",
       "    }\n",
       "\n",
       "    .dataframe thead th {\n",
       "        text-align: right;\n",
       "    }\n",
       "</style>\n",
       "<table border=\"1\" class=\"dataframe\">\n",
       "  <thead>\n",
       "    <tr style=\"text-align: right;\">\n",
       "      <th></th>\n",
       "      <th>user_id</th>\n",
       "      <th>tariff_plan</th>\n",
       "      <th>date_start</th>\n",
       "    </tr>\n",
       "  </thead>\n",
       "  <tbody>\n",
       "    <tr>\n",
       "      <td>0</td>\n",
       "      <td>166713</td>\n",
       "      <td>A</td>\n",
       "      <td>2019-08-15</td>\n",
       "    </tr>\n",
       "    <tr>\n",
       "      <td>1</td>\n",
       "      <td>166901</td>\n",
       "      <td>A</td>\n",
       "      <td>2019-08-23</td>\n",
       "    </tr>\n",
       "    <tr>\n",
       "      <td>2</td>\n",
       "      <td>168527</td>\n",
       "      <td>A</td>\n",
       "      <td>2019-10-29</td>\n",
       "    </tr>\n",
       "    <tr>\n",
       "      <td>3</td>\n",
       "      <td>167097</td>\n",
       "      <td>A</td>\n",
       "      <td>2019-09-01</td>\n",
       "    </tr>\n",
       "    <tr>\n",
       "      <td>4</td>\n",
       "      <td>168193</td>\n",
       "      <td>A</td>\n",
       "      <td>2019-10-16</td>\n",
       "    </tr>\n",
       "  </tbody>\n",
       "</table>\n",
       "</div>"
      ],
      "text/plain": [
       "   user_id tariff_plan  date_start\n",
       "0   166713           A  2019-08-15\n",
       "1   166901           A  2019-08-23\n",
       "2   168527           A  2019-10-29\n",
       "3   167097           A  2019-09-01\n",
       "4   168193           A  2019-10-16"
      ]
     },
     "metadata": {},
     "output_type": "display_data"
    },
    {
     "name": "stdout",
     "output_type": "stream",
     "text": [
      "<class 'pandas.core.frame.DataFrame'>\n",
      "RangeIndex: 732 entries, 0 to 731\n",
      "Data columns (total 3 columns):\n",
      "user_id        732 non-null int64\n",
      "tariff_plan    732 non-null object\n",
      "date_start     732 non-null object\n",
      "dtypes: int64(1), object(2)\n",
      "memory usage: 17.3+ KB\n"
     ]
    },
    {
     "data": {
      "text/plain": [
       "None"
      ]
     },
     "metadata": {},
     "output_type": "display_data"
    }
   ],
   "source": [
    "display(clients.head())\n",
    "display(clients.info())"
   ]
  },
  {
   "cell_type": "markdown",
   "metadata": {},
   "source": [
    "<div style=\"background-color:rgb(202, 225, 246); text-align:left; border-style: dotted solid; vertical-align: middle; padding:20px 10px;\">\n",
    "There are not explicit NaN values in the dataset. The column date_start should be converted to the appropriate datatype.\n",
    "</div>"
   ]
  },
  {
   "cell_type": "markdown",
   "metadata": {},
   "source": [
    "### Type correspondence"
   ]
  },
  {
   "cell_type": "markdown",
   "metadata": {},
   "source": [
    "<div style=\"background-color:rgb(202, 225, 246); text-align:left; border-style: dotted solid; vertical-align: middle; padding:20px 10px;\">\n",
    "There are several categories, the types of which should be converted to more appropriate ones:\n",
    "    \n",
    "<strong>First dataset:</strong>\n",
    "- date: from String to date\n",
    "- internal:I would choose '1/0' option (1 -True, 0 - False) for machine learning models and other calculations\n",
    "- direction: 1 - in, 0 - out\n",
    "    \n",
    "\n",
    "<strong>Second dataset:</strong>\n",
    "- date_start: string to date\n",
    "</div>"
   ]
  },
  {
   "cell_type": "code",
   "execution_count": 6,
   "metadata": {},
   "outputs": [
    {
     "name": "stdout",
     "output_type": "stream",
     "text": [
      "<class 'pandas.core.frame.DataFrame'>\n",
      "RangeIndex: 53902 entries, 0 to 53901\n",
      "Data columns (total 9 columns):\n",
      "user_id                53902 non-null int64\n",
      "date                   53902 non-null datetime64[ns, pytz.FixedOffset(180)]\n",
      "direction              53902 non-null int64\n",
      "internal               53785 non-null float64\n",
      "operator_id            45730 non-null float64\n",
      "is_missed_call         53902 non-null int64\n",
      "calls_count            53902 non-null int64\n",
      "call_duration          53902 non-null int64\n",
      "total_call_duration    53902 non-null int64\n",
      "dtypes: datetime64[ns, pytz.FixedOffset(180)](1), float64(2), int64(6)\n",
      "memory usage: 3.7 MB\n"
     ]
    },
    {
     "data": {
      "text/html": [
       "<div>\n",
       "<style scoped>\n",
       "    .dataframe tbody tr th:only-of-type {\n",
       "        vertical-align: middle;\n",
       "    }\n",
       "\n",
       "    .dataframe tbody tr th {\n",
       "        vertical-align: top;\n",
       "    }\n",
       "\n",
       "    .dataframe thead th {\n",
       "        text-align: right;\n",
       "    }\n",
       "</style>\n",
       "<table border=\"1\" class=\"dataframe\">\n",
       "  <thead>\n",
       "    <tr style=\"text-align: right;\">\n",
       "      <th></th>\n",
       "      <th>user_id</th>\n",
       "      <th>date</th>\n",
       "      <th>direction</th>\n",
       "      <th>internal</th>\n",
       "      <th>operator_id</th>\n",
       "      <th>is_missed_call</th>\n",
       "      <th>calls_count</th>\n",
       "      <th>call_duration</th>\n",
       "      <th>total_call_duration</th>\n",
       "    </tr>\n",
       "  </thead>\n",
       "  <tbody>\n",
       "    <tr>\n",
       "      <td>0</td>\n",
       "      <td>166377</td>\n",
       "      <td>2019-08-04 00:00:00+03:00</td>\n",
       "      <td>1</td>\n",
       "      <td>0.0</td>\n",
       "      <td>NaN</td>\n",
       "      <td>1</td>\n",
       "      <td>2</td>\n",
       "      <td>0</td>\n",
       "      <td>4</td>\n",
       "    </tr>\n",
       "    <tr>\n",
       "      <td>1</td>\n",
       "      <td>166377</td>\n",
       "      <td>2019-08-05 00:00:00+03:00</td>\n",
       "      <td>0</td>\n",
       "      <td>1.0</td>\n",
       "      <td>880022.0</td>\n",
       "      <td>1</td>\n",
       "      <td>3</td>\n",
       "      <td>0</td>\n",
       "      <td>5</td>\n",
       "    </tr>\n",
       "    <tr>\n",
       "      <td>2</td>\n",
       "      <td>166377</td>\n",
       "      <td>2019-08-05 00:00:00+03:00</td>\n",
       "      <td>0</td>\n",
       "      <td>1.0</td>\n",
       "      <td>880020.0</td>\n",
       "      <td>1</td>\n",
       "      <td>1</td>\n",
       "      <td>0</td>\n",
       "      <td>1</td>\n",
       "    </tr>\n",
       "    <tr>\n",
       "      <td>3</td>\n",
       "      <td>166377</td>\n",
       "      <td>2019-08-05 00:00:00+03:00</td>\n",
       "      <td>0</td>\n",
       "      <td>1.0</td>\n",
       "      <td>880020.0</td>\n",
       "      <td>0</td>\n",
       "      <td>1</td>\n",
       "      <td>10</td>\n",
       "      <td>18</td>\n",
       "    </tr>\n",
       "    <tr>\n",
       "      <td>4</td>\n",
       "      <td>166377</td>\n",
       "      <td>2019-08-05 00:00:00+03:00</td>\n",
       "      <td>0</td>\n",
       "      <td>0.0</td>\n",
       "      <td>880022.0</td>\n",
       "      <td>1</td>\n",
       "      <td>3</td>\n",
       "      <td>0</td>\n",
       "      <td>25</td>\n",
       "    </tr>\n",
       "  </tbody>\n",
       "</table>\n",
       "</div>"
      ],
      "text/plain": [
       "   user_id                      date  direction  internal  operator_id  \\\n",
       "0   166377 2019-08-04 00:00:00+03:00          1       0.0          NaN   \n",
       "1   166377 2019-08-05 00:00:00+03:00          0       1.0     880022.0   \n",
       "2   166377 2019-08-05 00:00:00+03:00          0       1.0     880020.0   \n",
       "3   166377 2019-08-05 00:00:00+03:00          0       1.0     880020.0   \n",
       "4   166377 2019-08-05 00:00:00+03:00          0       0.0     880022.0   \n",
       "\n",
       "   is_missed_call  calls_count  call_duration  total_call_duration  \n",
       "0               1            2              0                    4  \n",
       "1               1            3              0                    5  \n",
       "2               1            1              0                    1  \n",
       "3               0            1             10                   18  \n",
       "4               1            3              0                   25  "
      ]
     },
     "metadata": {},
     "output_type": "display_data"
    }
   ],
   "source": [
    "main_dataset['date']= pd.to_datetime(main_dataset['date'], format='%Y-%m-%d %H:%M:%S') \n",
    "main_dataset['internal'] = pd.to_numeric(main_dataset['internal']*1)\n",
    "main_dataset['is_missed_call'] = main_dataset['is_missed_call']*1\n",
    "\n",
    "main_dataset.direction[main_dataset.direction == 'in'] = 1\n",
    "main_dataset.direction[main_dataset.direction == 'out'] = 0\n",
    "main_dataset['direction'] = main_dataset['direction'].astype('int')\n",
    "main_dataset.info()\n",
    "display(main_dataset.head())"
   ]
  },
  {
   "cell_type": "code",
   "execution_count": 7,
   "metadata": {},
   "outputs": [
    {
     "name": "stdout",
     "output_type": "stream",
     "text": [
      "<class 'pandas.core.frame.DataFrame'>\n",
      "RangeIndex: 732 entries, 0 to 731\n",
      "Data columns (total 3 columns):\n",
      "user_id        732 non-null int64\n",
      "tariff_plan    732 non-null object\n",
      "date_start     732 non-null datetime64[ns]\n",
      "dtypes: datetime64[ns](1), int64(1), object(1)\n",
      "memory usage: 17.3+ KB\n"
     ]
    }
   ],
   "source": [
    "clients['date_start']= pd.to_datetime(clients['date_start'], format='%Y-%m-%d %H:%M:%S') \n",
    "clients.info()"
   ]
  },
  {
   "cell_type": "markdown",
   "metadata": {},
   "source": [
    "### Processing missing values"
   ]
  },
  {
   "cell_type": "code",
   "execution_count": 8,
   "metadata": {},
   "outputs": [
    {
     "data": {
      "text/plain": [
       "user_id                 0.000000\n",
       "date                    0.000000\n",
       "direction               0.000000\n",
       "internal                0.217061\n",
       "operator_id            15.160847\n",
       "is_missed_call          0.000000\n",
       "calls_count             0.000000\n",
       "call_duration           0.000000\n",
       "total_call_duration     0.000000\n",
       "dtype: float64"
      ]
     },
     "execution_count": 8,
     "metadata": {},
     "output_type": "execute_result"
    }
   ],
   "source": [
    "main_dataset.isna().sum()/(len(main_dataset))*100"
   ]
  },
  {
   "cell_type": "markdown",
   "metadata": {},
   "source": [
    "<div style=\"background-color:rgb(202, 225, 246); text-align:left; border-style: dotted solid; vertical-align: middle; padding:20px 10px;\">\n",
    "    As it was mentioned there are missing values in <strong>internal</strong> and <strong>operator_id</strong> columns. While the number of NaN values in <strong>internal</strong> is not statistically significant and can be dropped, the NaNs in <strong>operator_id</strong> constitute 15% and cannot be ignored. Lets look at the rows with missing values in <strong>operator_id</strong>\n",
    "</div>\n"
   ]
  },
  {
   "cell_type": "code",
   "execution_count": 9,
   "metadata": {},
   "outputs": [
    {
     "data": {
      "text/html": [
       "<div>\n",
       "<style scoped>\n",
       "    .dataframe tbody tr th:only-of-type {\n",
       "        vertical-align: middle;\n",
       "    }\n",
       "\n",
       "    .dataframe tbody tr th {\n",
       "        vertical-align: top;\n",
       "    }\n",
       "\n",
       "    .dataframe thead th {\n",
       "        text-align: right;\n",
       "    }\n",
       "</style>\n",
       "<table border=\"1\" class=\"dataframe\">\n",
       "  <thead>\n",
       "    <tr style=\"text-align: right;\">\n",
       "      <th></th>\n",
       "      <th>user_id</th>\n",
       "      <th>date</th>\n",
       "      <th>direction</th>\n",
       "      <th>internal</th>\n",
       "      <th>operator_id</th>\n",
       "      <th>is_missed_call</th>\n",
       "      <th>calls_count</th>\n",
       "      <th>call_duration</th>\n",
       "      <th>total_call_duration</th>\n",
       "    </tr>\n",
       "  </thead>\n",
       "  <tbody>\n",
       "    <tr>\n",
       "      <td>0</td>\n",
       "      <td>166377</td>\n",
       "      <td>2019-08-04 00:00:00+03:00</td>\n",
       "      <td>1</td>\n",
       "      <td>0.0</td>\n",
       "      <td>NaN</td>\n",
       "      <td>1</td>\n",
       "      <td>2</td>\n",
       "      <td>0</td>\n",
       "      <td>4</td>\n",
       "    </tr>\n",
       "    <tr>\n",
       "      <td>7</td>\n",
       "      <td>166377</td>\n",
       "      <td>2019-08-05 00:00:00+03:00</td>\n",
       "      <td>1</td>\n",
       "      <td>0.0</td>\n",
       "      <td>NaN</td>\n",
       "      <td>1</td>\n",
       "      <td>6</td>\n",
       "      <td>0</td>\n",
       "      <td>35</td>\n",
       "    </tr>\n",
       "    <tr>\n",
       "      <td>9</td>\n",
       "      <td>166377</td>\n",
       "      <td>2019-08-06 00:00:00+03:00</td>\n",
       "      <td>1</td>\n",
       "      <td>0.0</td>\n",
       "      <td>NaN</td>\n",
       "      <td>1</td>\n",
       "      <td>4</td>\n",
       "      <td>0</td>\n",
       "      <td>62</td>\n",
       "    </tr>\n",
       "    <tr>\n",
       "      <td>17</td>\n",
       "      <td>166377</td>\n",
       "      <td>2019-08-07 00:00:00+03:00</td>\n",
       "      <td>1</td>\n",
       "      <td>0.0</td>\n",
       "      <td>NaN</td>\n",
       "      <td>1</td>\n",
       "      <td>2</td>\n",
       "      <td>0</td>\n",
       "      <td>24</td>\n",
       "    </tr>\n",
       "    <tr>\n",
       "      <td>27</td>\n",
       "      <td>166377</td>\n",
       "      <td>2019-08-12 00:00:00+03:00</td>\n",
       "      <td>1</td>\n",
       "      <td>0.0</td>\n",
       "      <td>NaN</td>\n",
       "      <td>1</td>\n",
       "      <td>2</td>\n",
       "      <td>0</td>\n",
       "      <td>34</td>\n",
       "    </tr>\n",
       "  </tbody>\n",
       "</table>\n",
       "</div>"
      ],
      "text/plain": [
       "    user_id                      date  direction  internal  operator_id  \\\n",
       "0    166377 2019-08-04 00:00:00+03:00          1       0.0          NaN   \n",
       "7    166377 2019-08-05 00:00:00+03:00          1       0.0          NaN   \n",
       "9    166377 2019-08-06 00:00:00+03:00          1       0.0          NaN   \n",
       "17   166377 2019-08-07 00:00:00+03:00          1       0.0          NaN   \n",
       "27   166377 2019-08-12 00:00:00+03:00          1       0.0          NaN   \n",
       "\n",
       "    is_missed_call  calls_count  call_duration  total_call_duration  \n",
       "0                1            2              0                    4  \n",
       "7                1            6              0                   35  \n",
       "9                1            4              0                   62  \n",
       "17               1            2              0                   24  \n",
       "27               1            2              0                   34  "
      ]
     },
     "metadata": {},
     "output_type": "display_data"
    },
    {
     "name": "stdout",
     "output_type": "stream",
     "text": [
      "Value count for call_duration: \n",
      "\n",
      "0        8050\n",
      "229         3\n",
      "145         2\n",
      "46          2\n",
      "53          2\n",
      "         ... \n",
      "302         1\n",
      "374         1\n",
      "382         1\n",
      "578         1\n",
      "23706       1\n",
      "Name: call_duration, Length: 110, dtype: int64\n",
      "\n",
      "Value count for is_missed_call: \n",
      "\n",
      "1    8050\n",
      "0     122\n",
      "Name: is_missed_call, dtype: int64\n",
      "\n",
      "Value count for direction: \n",
      "\n",
      "1    7972\n",
      "0     200\n",
      "Name: direction, dtype: int64\n",
      "\n",
      "Value count for internal: \n",
      "\n",
      "0.0    7760\n",
      "1.0     355\n",
      "Name: internal, dtype: int64\n",
      "\n"
     ]
    }
   ],
   "source": [
    "nan_operator_id = main_dataset[main_dataset['operator_id'].isna()]\n",
    "display(nan_operator_id.head())\n",
    "\n",
    "categories_01 = ['call_duration', 'is_missed_call', 'direction','internal']\n",
    "\n",
    "for category in categories_01:\n",
    "    print('Value count for {}: \\n'.format(category))\n",
    "    print(nan_operator_id[category].value_counts())\n",
    "    print()"
   ]
  },
  {
   "cell_type": "code",
   "execution_count": 10,
   "metadata": {},
   "outputs": [
    {
     "name": "stdout",
     "output_type": "stream",
     "text": [
      "0    30334\n",
      "1    23568\n",
      "Name: is_missed_call, dtype: int64\n"
     ]
    }
   ],
   "source": [
    "## missed calls in the general dataset\n",
    "print(main_dataset['is_missed_call'].value_counts())\n"
   ]
  },
  {
   "cell_type": "markdown",
   "metadata": {},
   "source": [
    "<div style=\"background-color:rgb(202, 225, 246); text-align:left; border-style: dotted solid; vertical-align: middle; padding:20px 10px;\">\n",
    "Most of calls with missed operator_id are missed incoming calls from the user. Perhaps, there is a technical issue in operator_id recording when we deal with missing calls. I suggest to inform the appropriate department for double check. To continue analysis I decided to create two slices of dataset: (1) with NaN values (for analysis of data without any correlation with a particular operator) (2) without NaN  values (to analyse effectivity of operators) \n",
    "</div>"
   ]
  },
  {
   "cell_type": "code",
   "execution_count": 11,
   "metadata": {},
   "outputs": [
    {
     "data": {
      "text/plain": [
       "(53785, 9)"
      ]
     },
     "execution_count": 11,
     "metadata": {},
     "output_type": "execute_result"
    }
   ],
   "source": [
    "main_dataset_with_nan_operators = main_dataset.dropna(subset=['internal']).fillna('0')\n",
    "main_dataset_with_nan_operators.shape"
   ]
  },
  {
   "cell_type": "code",
   "execution_count": 12,
   "metadata": {},
   "outputs": [
    {
     "data": {
      "text/plain": [
       "(45670, 9)"
      ]
     },
     "execution_count": 12,
     "metadata": {},
     "output_type": "execute_result"
    }
   ],
   "source": [
    "main_dataset_nan_dropped = main_dataset.dropna()\n",
    "main_dataset_nan_dropped.shape"
   ]
  },
  {
   "cell_type": "code",
   "execution_count": 13,
   "metadata": {},
   "outputs": [],
   "source": [
    "main_dataset_with_nan_operators['internal'] = main_dataset_with_nan_operators['internal'].astype('int')\n",
    "main_dataset_nan_dropped['internal'] = main_dataset_nan_dropped['internal'].astype('int')"
   ]
  },
  {
   "cell_type": "markdown",
   "metadata": {},
   "source": [
    "<div style=\"background-color:rgb(202, 225, 246); text-align:left; border-style: dotted solid; vertical-align: middle; padding:20px 10px;\">\n",
    "I suggest to check another categories for the implicit missing values:\n",
    "</div>"
   ]
  },
  {
   "cell_type": "code",
   "execution_count": 14,
   "metadata": {},
   "outputs": [
    {
     "name": "stdout",
     "output_type": "stream",
     "text": [
      "Value count for is_missed_call: \n",
      "\n",
      "0    30334\n",
      "1    23568\n",
      "Name: is_missed_call, dtype: int64\n",
      "\n",
      "Value count for direction: \n",
      "\n",
      "0    31917\n",
      "1    21985\n",
      "Name: direction, dtype: int64\n",
      "\n",
      "Value count for internal: \n",
      "\n",
      "0.0    47621\n",
      "1.0     6164\n",
      "Name: internal, dtype: int64\n",
      "\n"
     ]
    }
   ],
   "source": [
    "categories_01 = ['is_missed_call', 'direction','internal']\n",
    "for category in categories_01:\n",
    "    print('Value count for {}: \\n'.format(category))\n",
    "    print(main_dataset[category].value_counts())\n",
    "    print()"
   ]
  },
  {
   "cell_type": "markdown",
   "metadata": {},
   "source": [
    "<div style=\"background-color:rgb(202, 225, 246); text-align:left; border-style: dotted solid; vertical-align: middle; padding:20px 10px;\">\n",
    "There is no implicit missing values in the categories mentioned above. Lets switch to the clients dataset</div>"
   ]
  },
  {
   "cell_type": "code",
   "execution_count": 15,
   "metadata": {},
   "outputs": [
    {
     "data": {
      "text/plain": [
       "user_id        0.0\n",
       "tariff_plan    0.0\n",
       "date_start     0.0\n",
       "dtype: float64"
      ]
     },
     "execution_count": 15,
     "metadata": {},
     "output_type": "execute_result"
    }
   ],
   "source": [
    "clients.isna().sum()/(len(clients))*100\n"
   ]
  },
  {
   "cell_type": "code",
   "execution_count": 16,
   "metadata": {},
   "outputs": [
    {
     "name": "stdout",
     "output_type": "stream",
     "text": [
      "C    395\n",
      "B    261\n",
      "A     76\n",
      "Name: tariff_plan, dtype: int64\n"
     ]
    }
   ],
   "source": [
    "print(clients['tariff_plan'].value_counts())\n"
   ]
  },
  {
   "cell_type": "markdown",
   "metadata": {},
   "source": [
    "<div style=\"background-color:rgb(202, 225, 246); text-align:left; border-style: dotted solid; vertical-align: middle; padding:20px 10px;\">\n",
    "There are neither explicit nor implicit missing values in the dataset. Additionally, I found out that there are 3 different tariff plans for users</div>"
   ]
  },
  {
   "cell_type": "markdown",
   "metadata": {},
   "source": [
    "### Processing duplicates"
   ]
  },
  {
   "cell_type": "code",
   "execution_count": 17,
   "metadata": {},
   "outputs": [
    {
     "name": "stdout",
     "output_type": "stream",
     "text": [
      "4900\n",
      "9.090571778412675\n"
     ]
    }
   ],
   "source": [
    "print(main_dataset.duplicated().sum()) \n",
    "print((main_dataset.duplicated().sum()/len(main_dataset))*100)"
   ]
  },
  {
   "cell_type": "code",
   "execution_count": 18,
   "metadata": {},
   "outputs": [
    {
     "name": "stdout",
     "output_type": "stream",
     "text": [
      "0\n",
      "0.0\n"
     ]
    }
   ],
   "source": [
    "print(clients.duplicated().sum()) \n",
    "print(clients.duplicated().sum()/len(clients)*100)"
   ]
  },
  {
   "cell_type": "markdown",
   "metadata": {},
   "source": [
    "<div style=\"background-color:rgb(202, 225, 246); text-align:left; border-style: dotted solid; vertical-align: middle; padding:20px 10px;\">\n",
    "The duplicates in the main_dataset constitutes 9% of the whole data (should be dropped).\n",
    "There is no duplicates in the clients dataset\n",
    "</div>"
   ]
  },
  {
   "cell_type": "code",
   "execution_count": 19,
   "metadata": {},
   "outputs": [
    {
     "data": {
      "text/plain": [
       "(48892, 9)"
      ]
     },
     "execution_count": 19,
     "metadata": {},
     "output_type": "execute_result"
    }
   ],
   "source": [
    "main_dataset_with_nan_operators= main_dataset_with_nan_operators.drop_duplicates()\n",
    "main_dataset_with_nan_operators.shape"
   ]
  },
  {
   "cell_type": "code",
   "execution_count": 20,
   "metadata": {},
   "outputs": [
    {
     "data": {
      "text/plain": [
       "(41491, 9)"
      ]
     },
     "execution_count": 20,
     "metadata": {},
     "output_type": "execute_result"
    }
   ],
   "source": [
    "main_dataset_nan_dropped = main_dataset_nan_dropped.drop_duplicates()\n",
    "main_dataset_nan_dropped.shape"
   ]
  },
  {
   "cell_type": "markdown",
   "metadata": {},
   "source": [
    "### Missed call and duration categories\n"
   ]
  },
  {
   "cell_type": "markdown",
   "metadata": {},
   "source": [
    "<div style=\"background-color:rgb(202, 225, 246); text-align:left; border-style: dotted solid; vertical-align: middle; padding:20px 10px;\">\n",
    "I suggest to check the mentioned categories together to look for possible logical inconsistences:\n",
    "</div>"
   ]
  },
  {
   "cell_type": "code",
   "execution_count": 21,
   "metadata": {},
   "outputs": [
    {
     "data": {
      "text/html": [
       "<div>\n",
       "<style scoped>\n",
       "    .dataframe tbody tr th:only-of-type {\n",
       "        vertical-align: middle;\n",
       "    }\n",
       "\n",
       "    .dataframe tbody tr th {\n",
       "        vertical-align: top;\n",
       "    }\n",
       "\n",
       "    .dataframe thead th {\n",
       "        text-align: right;\n",
       "    }\n",
       "</style>\n",
       "<table border=\"1\" class=\"dataframe\">\n",
       "  <thead>\n",
       "    <tr style=\"text-align: right;\">\n",
       "      <th></th>\n",
       "      <th>user_id</th>\n",
       "      <th>date</th>\n",
       "      <th>direction</th>\n",
       "      <th>internal</th>\n",
       "      <th>operator_id</th>\n",
       "      <th>is_missed_call</th>\n",
       "      <th>calls_count</th>\n",
       "      <th>call_duration</th>\n",
       "      <th>total_call_duration</th>\n",
       "    </tr>\n",
       "  </thead>\n",
       "  <tbody>\n",
       "    <tr>\n",
       "      <td>1606</td>\n",
       "      <td>166405</td>\n",
       "      <td>2019-11-19 00:00:00+03:00</td>\n",
       "      <td>1</td>\n",
       "      <td>0</td>\n",
       "      <td>939478</td>\n",
       "      <td>1</td>\n",
       "      <td>1</td>\n",
       "      <td>165</td>\n",
       "      <td>173</td>\n",
       "    </tr>\n",
       "    <tr>\n",
       "      <td>2283</td>\n",
       "      <td>166407</td>\n",
       "      <td>2019-09-23 00:00:00+03:00</td>\n",
       "      <td>1</td>\n",
       "      <td>0</td>\n",
       "      <td>888534</td>\n",
       "      <td>1</td>\n",
       "      <td>1</td>\n",
       "      <td>133</td>\n",
       "      <td>156</td>\n",
       "    </tr>\n",
       "    <tr>\n",
       "      <td>2956</td>\n",
       "      <td>166485</td>\n",
       "      <td>2019-09-09 00:00:00+03:00</td>\n",
       "      <td>1</td>\n",
       "      <td>0</td>\n",
       "      <td>887276</td>\n",
       "      <td>1</td>\n",
       "      <td>1</td>\n",
       "      <td>31</td>\n",
       "      <td>44</td>\n",
       "    </tr>\n",
       "    <tr>\n",
       "      <td>3376</td>\n",
       "      <td>166485</td>\n",
       "      <td>2019-10-31 00:00:00+03:00</td>\n",
       "      <td>1</td>\n",
       "      <td>0</td>\n",
       "      <td>887276</td>\n",
       "      <td>1</td>\n",
       "      <td>1</td>\n",
       "      <td>79</td>\n",
       "      <td>123</td>\n",
       "    </tr>\n",
       "    <tr>\n",
       "      <td>3975</td>\n",
       "      <td>166503</td>\n",
       "      <td>2019-08-12 00:00:00+03:00</td>\n",
       "      <td>1</td>\n",
       "      <td>1</td>\n",
       "      <td>884408</td>\n",
       "      <td>1</td>\n",
       "      <td>1</td>\n",
       "      <td>38</td>\n",
       "      <td>69</td>\n",
       "    </tr>\n",
       "  </tbody>\n",
       "</table>\n",
       "</div>"
      ],
      "text/plain": [
       "      user_id                      date  direction  internal operator_id  \\\n",
       "1606   166405 2019-11-19 00:00:00+03:00          1         0      939478   \n",
       "2283   166407 2019-09-23 00:00:00+03:00          1         0      888534   \n",
       "2956   166485 2019-09-09 00:00:00+03:00          1         0      887276   \n",
       "3376   166485 2019-10-31 00:00:00+03:00          1         0      887276   \n",
       "3975   166503 2019-08-12 00:00:00+03:00          1         1      884408   \n",
       "\n",
       "      is_missed_call  calls_count  call_duration  total_call_duration  \n",
       "1606               1            1            165                  173  \n",
       "2283               1            1            133                  156  \n",
       "2956               1            1             31                   44  \n",
       "3376               1            1             79                  123  \n",
       "3975               1            1             38                   69  "
      ]
     },
     "metadata": {},
     "output_type": "display_data"
    },
    {
     "data": {
      "text/html": [
       "<div>\n",
       "<style scoped>\n",
       "    .dataframe tbody tr th:only-of-type {\n",
       "        vertical-align: middle;\n",
       "    }\n",
       "\n",
       "    .dataframe tbody tr th {\n",
       "        vertical-align: top;\n",
       "    }\n",
       "\n",
       "    .dataframe thead th {\n",
       "        text-align: right;\n",
       "    }\n",
       "</style>\n",
       "<table border=\"1\" class=\"dataframe\">\n",
       "  <thead>\n",
       "    <tr style=\"text-align: right;\">\n",
       "      <th></th>\n",
       "      <th>user_id</th>\n",
       "      <th>date</th>\n",
       "      <th>direction</th>\n",
       "      <th>internal</th>\n",
       "      <th>operator_id</th>\n",
       "      <th>is_missed_call</th>\n",
       "      <th>calls_count</th>\n",
       "      <th>call_duration</th>\n",
       "      <th>total_call_duration</th>\n",
       "    </tr>\n",
       "  </thead>\n",
       "  <tbody>\n",
       "    <tr>\n",
       "      <td>1606</td>\n",
       "      <td>166405</td>\n",
       "      <td>2019-11-19 00:00:00+03:00</td>\n",
       "      <td>1</td>\n",
       "      <td>0</td>\n",
       "      <td>939478.0</td>\n",
       "      <td>1</td>\n",
       "      <td>1</td>\n",
       "      <td>165</td>\n",
       "      <td>173</td>\n",
       "    </tr>\n",
       "    <tr>\n",
       "      <td>2283</td>\n",
       "      <td>166407</td>\n",
       "      <td>2019-09-23 00:00:00+03:00</td>\n",
       "      <td>1</td>\n",
       "      <td>0</td>\n",
       "      <td>888534.0</td>\n",
       "      <td>1</td>\n",
       "      <td>1</td>\n",
       "      <td>133</td>\n",
       "      <td>156</td>\n",
       "    </tr>\n",
       "    <tr>\n",
       "      <td>2956</td>\n",
       "      <td>166485</td>\n",
       "      <td>2019-09-09 00:00:00+03:00</td>\n",
       "      <td>1</td>\n",
       "      <td>0</td>\n",
       "      <td>887276.0</td>\n",
       "      <td>1</td>\n",
       "      <td>1</td>\n",
       "      <td>31</td>\n",
       "      <td>44</td>\n",
       "    </tr>\n",
       "    <tr>\n",
       "      <td>3376</td>\n",
       "      <td>166485</td>\n",
       "      <td>2019-10-31 00:00:00+03:00</td>\n",
       "      <td>1</td>\n",
       "      <td>0</td>\n",
       "      <td>887276.0</td>\n",
       "      <td>1</td>\n",
       "      <td>1</td>\n",
       "      <td>79</td>\n",
       "      <td>123</td>\n",
       "    </tr>\n",
       "    <tr>\n",
       "      <td>3975</td>\n",
       "      <td>166503</td>\n",
       "      <td>2019-08-12 00:00:00+03:00</td>\n",
       "      <td>1</td>\n",
       "      <td>1</td>\n",
       "      <td>884408.0</td>\n",
       "      <td>1</td>\n",
       "      <td>1</td>\n",
       "      <td>38</td>\n",
       "      <td>69</td>\n",
       "    </tr>\n",
       "  </tbody>\n",
       "</table>\n",
       "</div>"
      ],
      "text/plain": [
       "      user_id                      date  direction  internal  operator_id  \\\n",
       "1606   166405 2019-11-19 00:00:00+03:00          1         0     939478.0   \n",
       "2283   166407 2019-09-23 00:00:00+03:00          1         0     888534.0   \n",
       "2956   166485 2019-09-09 00:00:00+03:00          1         0     887276.0   \n",
       "3376   166485 2019-10-31 00:00:00+03:00          1         0     887276.0   \n",
       "3975   166503 2019-08-12 00:00:00+03:00          1         1     884408.0   \n",
       "\n",
       "      is_missed_call  calls_count  call_duration  total_call_duration  \n",
       "1606               1            1            165                  173  \n",
       "2283               1            1            133                  156  \n",
       "2956               1            1             31                   44  \n",
       "3376               1            1             79                  123  \n",
       "3975               1            1             38                   69  "
      ]
     },
     "metadata": {},
     "output_type": "display_data"
    }
   ],
   "source": [
    "display(main_dataset_with_nan_operators.query('is_missed_call == 1 and call_duration>2').head())\n",
    "display(main_dataset_nan_dropped.query('is_missed_call == 1 and call_duration>2').head())"
   ]
  },
  {
   "cell_type": "code",
   "execution_count": 22,
   "metadata": {},
   "outputs": [
    {
     "data": {
      "text/html": [
       "<div>\n",
       "<style scoped>\n",
       "    .dataframe tbody tr th:only-of-type {\n",
       "        vertical-align: middle;\n",
       "    }\n",
       "\n",
       "    .dataframe tbody tr th {\n",
       "        vertical-align: top;\n",
       "    }\n",
       "\n",
       "    .dataframe thead th {\n",
       "        text-align: right;\n",
       "    }\n",
       "</style>\n",
       "<table border=\"1\" class=\"dataframe\">\n",
       "  <thead>\n",
       "    <tr style=\"text-align: right;\">\n",
       "      <th></th>\n",
       "      <th>user_id</th>\n",
       "      <th>date</th>\n",
       "      <th>direction</th>\n",
       "      <th>internal</th>\n",
       "      <th>operator_id</th>\n",
       "      <th>is_missed_call</th>\n",
       "      <th>calls_count</th>\n",
       "      <th>call_duration</th>\n",
       "      <th>total_call_duration</th>\n",
       "    </tr>\n",
       "  </thead>\n",
       "  <tbody>\n",
       "    <tr>\n",
       "      <td>386</td>\n",
       "      <td>166377</td>\n",
       "      <td>2019-10-22 00:00:00+03:00</td>\n",
       "      <td>0</td>\n",
       "      <td>1</td>\n",
       "      <td>880028</td>\n",
       "      <td>0</td>\n",
       "      <td>1</td>\n",
       "      <td>2</td>\n",
       "      <td>4</td>\n",
       "    </tr>\n",
       "    <tr>\n",
       "      <td>706</td>\n",
       "      <td>166399</td>\n",
       "      <td>2019-10-02 00:00:00+03:00</td>\n",
       "      <td>1</td>\n",
       "      <td>0</td>\n",
       "      <td>886674</td>\n",
       "      <td>0</td>\n",
       "      <td>1</td>\n",
       "      <td>1</td>\n",
       "      <td>12</td>\n",
       "    </tr>\n",
       "    <tr>\n",
       "      <td>718</td>\n",
       "      <td>166399</td>\n",
       "      <td>2019-10-21 00:00:00+03:00</td>\n",
       "      <td>1</td>\n",
       "      <td>0</td>\n",
       "      <td>886674</td>\n",
       "      <td>0</td>\n",
       "      <td>1</td>\n",
       "      <td>1</td>\n",
       "      <td>22</td>\n",
       "    </tr>\n",
       "    <tr>\n",
       "      <td>720</td>\n",
       "      <td>166399</td>\n",
       "      <td>2019-10-23 00:00:00+03:00</td>\n",
       "      <td>1</td>\n",
       "      <td>0</td>\n",
       "      <td>886674</td>\n",
       "      <td>0</td>\n",
       "      <td>1</td>\n",
       "      <td>2</td>\n",
       "      <td>12</td>\n",
       "    </tr>\n",
       "    <tr>\n",
       "      <td>749</td>\n",
       "      <td>166405</td>\n",
       "      <td>2019-08-18 00:00:00+03:00</td>\n",
       "      <td>1</td>\n",
       "      <td>0</td>\n",
       "      <td>882686</td>\n",
       "      <td>0</td>\n",
       "      <td>1</td>\n",
       "      <td>2</td>\n",
       "      <td>28</td>\n",
       "    </tr>\n",
       "  </tbody>\n",
       "</table>\n",
       "</div>"
      ],
      "text/plain": [
       "     user_id                      date  direction  internal operator_id  \\\n",
       "386   166377 2019-10-22 00:00:00+03:00          0         1      880028   \n",
       "706   166399 2019-10-02 00:00:00+03:00          1         0      886674   \n",
       "718   166399 2019-10-21 00:00:00+03:00          1         0      886674   \n",
       "720   166399 2019-10-23 00:00:00+03:00          1         0      886674   \n",
       "749   166405 2019-08-18 00:00:00+03:00          1         0      882686   \n",
       "\n",
       "     is_missed_call  calls_count  call_duration  total_call_duration  \n",
       "386               0            1              2                    4  \n",
       "706               0            1              1                   12  \n",
       "718               0            1              1                   22  \n",
       "720               0            1              2                   12  \n",
       "749               0            1              2                   28  "
      ]
     },
     "metadata": {},
     "output_type": "display_data"
    },
    {
     "data": {
      "text/html": [
       "<div>\n",
       "<style scoped>\n",
       "    .dataframe tbody tr th:only-of-type {\n",
       "        vertical-align: middle;\n",
       "    }\n",
       "\n",
       "    .dataframe tbody tr th {\n",
       "        vertical-align: top;\n",
       "    }\n",
       "\n",
       "    .dataframe thead th {\n",
       "        text-align: right;\n",
       "    }\n",
       "</style>\n",
       "<table border=\"1\" class=\"dataframe\">\n",
       "  <thead>\n",
       "    <tr style=\"text-align: right;\">\n",
       "      <th></th>\n",
       "      <th>user_id</th>\n",
       "      <th>date</th>\n",
       "      <th>direction</th>\n",
       "      <th>internal</th>\n",
       "      <th>operator_id</th>\n",
       "      <th>is_missed_call</th>\n",
       "      <th>calls_count</th>\n",
       "      <th>call_duration</th>\n",
       "      <th>total_call_duration</th>\n",
       "    </tr>\n",
       "  </thead>\n",
       "  <tbody>\n",
       "    <tr>\n",
       "      <td>386</td>\n",
       "      <td>166377</td>\n",
       "      <td>2019-10-22 00:00:00+03:00</td>\n",
       "      <td>0</td>\n",
       "      <td>1</td>\n",
       "      <td>880028.0</td>\n",
       "      <td>0</td>\n",
       "      <td>1</td>\n",
       "      <td>2</td>\n",
       "      <td>4</td>\n",
       "    </tr>\n",
       "    <tr>\n",
       "      <td>706</td>\n",
       "      <td>166399</td>\n",
       "      <td>2019-10-02 00:00:00+03:00</td>\n",
       "      <td>1</td>\n",
       "      <td>0</td>\n",
       "      <td>886674.0</td>\n",
       "      <td>0</td>\n",
       "      <td>1</td>\n",
       "      <td>1</td>\n",
       "      <td>12</td>\n",
       "    </tr>\n",
       "    <tr>\n",
       "      <td>718</td>\n",
       "      <td>166399</td>\n",
       "      <td>2019-10-21 00:00:00+03:00</td>\n",
       "      <td>1</td>\n",
       "      <td>0</td>\n",
       "      <td>886674.0</td>\n",
       "      <td>0</td>\n",
       "      <td>1</td>\n",
       "      <td>1</td>\n",
       "      <td>22</td>\n",
       "    </tr>\n",
       "    <tr>\n",
       "      <td>720</td>\n",
       "      <td>166399</td>\n",
       "      <td>2019-10-23 00:00:00+03:00</td>\n",
       "      <td>1</td>\n",
       "      <td>0</td>\n",
       "      <td>886674.0</td>\n",
       "      <td>0</td>\n",
       "      <td>1</td>\n",
       "      <td>2</td>\n",
       "      <td>12</td>\n",
       "    </tr>\n",
       "    <tr>\n",
       "      <td>749</td>\n",
       "      <td>166405</td>\n",
       "      <td>2019-08-18 00:00:00+03:00</td>\n",
       "      <td>1</td>\n",
       "      <td>0</td>\n",
       "      <td>882686.0</td>\n",
       "      <td>0</td>\n",
       "      <td>1</td>\n",
       "      <td>2</td>\n",
       "      <td>28</td>\n",
       "    </tr>\n",
       "  </tbody>\n",
       "</table>\n",
       "</div>"
      ],
      "text/plain": [
       "     user_id                      date  direction  internal  operator_id  \\\n",
       "386   166377 2019-10-22 00:00:00+03:00          0         1     880028.0   \n",
       "706   166399 2019-10-02 00:00:00+03:00          1         0     886674.0   \n",
       "718   166399 2019-10-21 00:00:00+03:00          1         0     886674.0   \n",
       "720   166399 2019-10-23 00:00:00+03:00          1         0     886674.0   \n",
       "749   166405 2019-08-18 00:00:00+03:00          1         0     882686.0   \n",
       "\n",
       "     is_missed_call  calls_count  call_duration  total_call_duration  \n",
       "386               0            1              2                    4  \n",
       "706               0            1              1                   12  \n",
       "718               0            1              1                   22  \n",
       "720               0            1              2                   12  \n",
       "749               0            1              2                   28  "
      ]
     },
     "metadata": {},
     "output_type": "display_data"
    }
   ],
   "source": [
    "display(main_dataset_with_nan_operators.query('is_missed_call == 0 and call_duration<=2').head())\n",
    "display(main_dataset_nan_dropped.query('is_missed_call == 0 and call_duration<=2').head())"
   ]
  },
  {
   "cell_type": "markdown",
   "metadata": {},
   "source": [
    "<div style=\"background-color:rgb(202, 225, 246); text-align:left; border-style: dotted solid; vertical-align: middle; padding:20px 10px;\">\n",
    "One may notice that we have significant call duration for some \"missed calls\". I suggest that there is a technical error in data recording and I decided to change the status of such calls to non missed calls. The similar logic is with non missed calls that have very short durations. I will change the status of these calls to missed calls.</div>"
   ]
  },
  {
   "cell_type": "code",
   "execution_count": 23,
   "metadata": {},
   "outputs": [],
   "source": [
    "def missed_calls_duration(dataset):\n",
    "    for i in dataset.index:\n",
    "        if dataset.loc[i, 'is_missed_call']==0:\n",
    "            if dataset.loc[i, 'call_duration']<3:\n",
    "                dataset.loc[i, 'is_missed_call'] =1\n",
    "        elif dataset.loc[i, 'is_missed_call']==1:\n",
    "            if dataset.loc[i, 'call_duration']>2:\n",
    "                dataset.loc[i, 'is_missed_call'] =0"
   ]
  },
  {
   "cell_type": "code",
   "execution_count": 24,
   "metadata": {},
   "outputs": [],
   "source": [
    "missed_calls_duration(main_dataset_with_nan_operators)\n",
    "missed_calls_duration(main_dataset_nan_dropped)"
   ]
  },
  {
   "cell_type": "markdown",
   "metadata": {},
   "source": [
    "### Call_duration and total_call_duration categories\n"
   ]
  },
  {
   "cell_type": "markdown",
   "metadata": {},
   "source": [
    "<div style=\"background-color:rgb(202, 225, 246); text-align:left; border-style: dotted solid; vertical-align: middle; padding:20px 10px;\">\n",
    "I will check whether total call duration values >= call duration values\n",
    "\n",
    "</div>"
   ]
  },
  {
   "cell_type": "code",
   "execution_count": 25,
   "metadata": {},
   "outputs": [
    {
     "data": {
      "text/html": [
       "<div>\n",
       "<style scoped>\n",
       "    .dataframe tbody tr th:only-of-type {\n",
       "        vertical-align: middle;\n",
       "    }\n",
       "\n",
       "    .dataframe tbody tr th {\n",
       "        vertical-align: top;\n",
       "    }\n",
       "\n",
       "    .dataframe thead th {\n",
       "        text-align: right;\n",
       "    }\n",
       "</style>\n",
       "<table border=\"1\" class=\"dataframe\">\n",
       "  <thead>\n",
       "    <tr style=\"text-align: right;\">\n",
       "      <th></th>\n",
       "      <th>user_id</th>\n",
       "      <th>date</th>\n",
       "      <th>direction</th>\n",
       "      <th>internal</th>\n",
       "      <th>operator_id</th>\n",
       "      <th>is_missed_call</th>\n",
       "      <th>calls_count</th>\n",
       "      <th>call_duration</th>\n",
       "      <th>total_call_duration</th>\n",
       "    </tr>\n",
       "  </thead>\n",
       "  <tbody>\n",
       "  </tbody>\n",
       "</table>\n",
       "</div>"
      ],
      "text/plain": [
       "Empty DataFrame\n",
       "Columns: [user_id, date, direction, internal, operator_id, is_missed_call, calls_count, call_duration, total_call_duration]\n",
       "Index: []"
      ]
     },
     "metadata": {},
     "output_type": "display_data"
    },
    {
     "data": {
      "text/html": [
       "<div>\n",
       "<style scoped>\n",
       "    .dataframe tbody tr th:only-of-type {\n",
       "        vertical-align: middle;\n",
       "    }\n",
       "\n",
       "    .dataframe tbody tr th {\n",
       "        vertical-align: top;\n",
       "    }\n",
       "\n",
       "    .dataframe thead th {\n",
       "        text-align: right;\n",
       "    }\n",
       "</style>\n",
       "<table border=\"1\" class=\"dataframe\">\n",
       "  <thead>\n",
       "    <tr style=\"text-align: right;\">\n",
       "      <th></th>\n",
       "      <th>user_id</th>\n",
       "      <th>date</th>\n",
       "      <th>direction</th>\n",
       "      <th>internal</th>\n",
       "      <th>operator_id</th>\n",
       "      <th>is_missed_call</th>\n",
       "      <th>calls_count</th>\n",
       "      <th>call_duration</th>\n",
       "      <th>total_call_duration</th>\n",
       "    </tr>\n",
       "  </thead>\n",
       "  <tbody>\n",
       "  </tbody>\n",
       "</table>\n",
       "</div>"
      ],
      "text/plain": [
       "Empty DataFrame\n",
       "Columns: [user_id, date, direction, internal, operator_id, is_missed_call, calls_count, call_duration, total_call_duration]\n",
       "Index: []"
      ]
     },
     "metadata": {},
     "output_type": "display_data"
    }
   ],
   "source": [
    "display(main_dataset_with_nan_operators.query('total_call_duration<call_duration'))\n",
    "display(main_dataset_nan_dropped.query('total_call_duration<call_duration'))"
   ]
  },
  {
   "cell_type": "markdown",
   "metadata": {},
   "source": [
    "### Add columns, merge datasets  "
   ]
  },
  {
   "cell_type": "markdown",
   "metadata": {},
   "source": [
    "<div style=\"background-color:rgb(202, 225, 246); text-align:left; border-style: dotted solid; vertical-align: middle; padding:20px 10px;\">\n",
    "I am planning to add the new column - waiting time (total call duration - call duration).\n",
    "\n",
    "I will merge the two data sets to try to find additional possible correlations.\n",
    "</div>"
   ]
  },
  {
   "cell_type": "code",
   "execution_count": 26,
   "metadata": {},
   "outputs": [],
   "source": [
    "main_dataset_with_nan_operators['waiting_time'] = main_dataset_with_nan_operators['total_call_duration']-main_dataset_with_nan_operators['call_duration']\n",
    "main_dataset_nan_dropped['waiting_time'] = main_dataset_nan_dropped['total_call_duration']-main_dataset_nan_dropped['call_duration']\n"
   ]
  },
  {
   "cell_type": "code",
   "execution_count": 27,
   "metadata": {},
   "outputs": [],
   "source": [
    "merged_data_with_nan = main_dataset_with_nan_operators.merge(clients, on='user_id', how='left')\n",
    "merged_data_nan_dropped = main_dataset_nan_dropped.merge(clients, on='user_id', how='left')"
   ]
  },
  {
   "cell_type": "markdown",
   "metadata": {},
   "source": [
    "<div style=\"background-color:rgb(247, 194, 87); text-align:left; border-style: dotted solid; vertical-align: middle; padding:20px 10px;\">\n",
    "    <strong>General conclusions on Preprocessing Data stage:</strong>\n",
    "<ol>\n",
    "    <li>There id a significant amount of NaN values in operator_id column. Due to the fact, that the research itself is about effectivity of operators, the major dataslice (<strong>merged_data_nan_dropped</strong>) does not include NaN values (dropped). There is an additional dataslice (<strong>merged_data_with_nan</strong>) with rows including NaN values (replaced by zeroes) for the analysis of the categories which do no directly correspond with operator id (for instance, tariff_plans of users). The second database gives us the opportunity to analyze larger dataset for more accurate results. </li>\n",
    "    <li> The string and bolean values in several columns were converted to numerical values (1/0)in order to make calculations during hypotheses testing and machine learning algorithms. Additionally, the date categories were converted to the apropriate format.</li>\n",
    "    <li>The dataset was checked for the logical inconsistences. For instance, the interrelations between is_missed_call and call_duration categories were checked (the missed call was defined as a call with duration less than 2 sec).  </li>\n",
    "    <li>The two datasets were merged with left join (on user_id column) in order to look for possible correlations with additional categories (for instance, with tariff_plans of users)</li>\n",
    "    <li>The explicit (the whole row) duplicates were dropped to reach higher accuracy in calculations</li>\n",
    "    </ol>\n",
    "</div>"
   ]
  },
  {
   "cell_type": "markdown",
   "metadata": {},
   "source": [
    "##  Exploratory data analysis (EDA)  <a class=\"anchor\" id=\"chapter2\"></a>"
   ]
  },
  {
   "cell_type": "markdown",
   "metadata": {},
   "source": [
    "<div style=\"background-color:rgb(202, 225, 246); text-align:left; border-style: dotted solid; vertical-align: middle; padding:20px 10px;\">\n",
    "In this part of the research I am going to make some summary statistics and graphical representations.\n",
    "\n",
    "<strong>Summary statistics</strong>: I would explore numerical data with describe() function, additionally I would calculate mean and median values for various dataslices using groupby() function. \n",
    "\n",
    "<strong>Graphical representations</strong>: I will explore distributions (with the help of histograms and barplots), possible linear correlations between parameters (with the help of corr() function and heatmaps) and possible outliers (quantantile calculations).\n",
    "</div>"
   ]
  },
  {
   "cell_type": "code",
   "execution_count": 28,
   "metadata": {},
   "outputs": [
    {
     "data": {
      "text/html": [
       "<div>\n",
       "<style scoped>\n",
       "    .dataframe tbody tr th:only-of-type {\n",
       "        vertical-align: middle;\n",
       "    }\n",
       "\n",
       "    .dataframe tbody tr th {\n",
       "        vertical-align: top;\n",
       "    }\n",
       "\n",
       "    .dataframe thead th {\n",
       "        text-align: right;\n",
       "    }\n",
       "</style>\n",
       "<table border=\"1\" class=\"dataframe\">\n",
       "  <thead>\n",
       "    <tr style=\"text-align: right;\">\n",
       "      <th></th>\n",
       "      <th>user_id</th>\n",
       "      <th>direction</th>\n",
       "      <th>internal</th>\n",
       "      <th>is_missed_call</th>\n",
       "      <th>calls_count</th>\n",
       "      <th>call_duration</th>\n",
       "      <th>total_call_duration</th>\n",
       "      <th>waiting_time</th>\n",
       "    </tr>\n",
       "  </thead>\n",
       "  <tbody>\n",
       "    <tr>\n",
       "      <td>count</td>\n",
       "      <td>48892.000000</td>\n",
       "      <td>48892.000000</td>\n",
       "      <td>48892.000000</td>\n",
       "      <td>48892.000000</td>\n",
       "      <td>48892.000000</td>\n",
       "      <td>48892.000000</td>\n",
       "      <td>48892.000000</td>\n",
       "      <td>48892.000000</td>\n",
       "    </tr>\n",
       "    <tr>\n",
       "      <td>mean</td>\n",
       "      <td>167294.492841</td>\n",
       "      <td>0.406917</td>\n",
       "      <td>0.115622</td>\n",
       "      <td>0.437393</td>\n",
       "      <td>16.495214</td>\n",
       "      <td>868.088788</td>\n",
       "      <td>1158.976458</td>\n",
       "      <td>290.887671</td>\n",
       "    </tr>\n",
       "    <tr>\n",
       "      <td>std</td>\n",
       "      <td>598.675508</td>\n",
       "      <td>0.491264</td>\n",
       "      <td>0.319775</td>\n",
       "      <td>0.496070</td>\n",
       "      <td>63.671633</td>\n",
       "      <td>3779.549967</td>\n",
       "      <td>4456.180933</td>\n",
       "      <td>1133.354018</td>\n",
       "    </tr>\n",
       "    <tr>\n",
       "      <td>min</td>\n",
       "      <td>166377.000000</td>\n",
       "      <td>0.000000</td>\n",
       "      <td>0.000000</td>\n",
       "      <td>0.000000</td>\n",
       "      <td>1.000000</td>\n",
       "      <td>0.000000</td>\n",
       "      <td>0.000000</td>\n",
       "      <td>0.000000</td>\n",
       "    </tr>\n",
       "    <tr>\n",
       "      <td>25%</td>\n",
       "      <td>166782.000000</td>\n",
       "      <td>0.000000</td>\n",
       "      <td>0.000000</td>\n",
       "      <td>0.000000</td>\n",
       "      <td>1.000000</td>\n",
       "      <td>0.000000</td>\n",
       "      <td>46.000000</td>\n",
       "      <td>17.000000</td>\n",
       "    </tr>\n",
       "    <tr>\n",
       "      <td>50%</td>\n",
       "      <td>167158.000000</td>\n",
       "      <td>0.000000</td>\n",
       "      <td>0.000000</td>\n",
       "      <td>0.000000</td>\n",
       "      <td>4.000000</td>\n",
       "      <td>37.000000</td>\n",
       "      <td>210.000000</td>\n",
       "      <td>55.000000</td>\n",
       "    </tr>\n",
       "    <tr>\n",
       "      <td>75%</td>\n",
       "      <td>167819.000000</td>\n",
       "      <td>1.000000</td>\n",
       "      <td>0.000000</td>\n",
       "      <td>1.000000</td>\n",
       "      <td>12.000000</td>\n",
       "      <td>573.000000</td>\n",
       "      <td>902.000000</td>\n",
       "      <td>200.000000</td>\n",
       "    </tr>\n",
       "    <tr>\n",
       "      <td>max</td>\n",
       "      <td>168606.000000</td>\n",
       "      <td>1.000000</td>\n",
       "      <td>1.000000</td>\n",
       "      <td>1.000000</td>\n",
       "      <td>4817.000000</td>\n",
       "      <td>144395.000000</td>\n",
       "      <td>166155.000000</td>\n",
       "      <td>46474.000000</td>\n",
       "    </tr>\n",
       "  </tbody>\n",
       "</table>\n",
       "</div>"
      ],
      "text/plain": [
       "             user_id     direction      internal  is_missed_call  \\\n",
       "count   48892.000000  48892.000000  48892.000000    48892.000000   \n",
       "mean   167294.492841      0.406917      0.115622        0.437393   \n",
       "std       598.675508      0.491264      0.319775        0.496070   \n",
       "min    166377.000000      0.000000      0.000000        0.000000   \n",
       "25%    166782.000000      0.000000      0.000000        0.000000   \n",
       "50%    167158.000000      0.000000      0.000000        0.000000   \n",
       "75%    167819.000000      1.000000      0.000000        1.000000   \n",
       "max    168606.000000      1.000000      1.000000        1.000000   \n",
       "\n",
       "        calls_count  call_duration  total_call_duration  waiting_time  \n",
       "count  48892.000000   48892.000000         48892.000000  48892.000000  \n",
       "mean      16.495214     868.088788          1158.976458    290.887671  \n",
       "std       63.671633    3779.549967          4456.180933   1133.354018  \n",
       "min        1.000000       0.000000             0.000000      0.000000  \n",
       "25%        1.000000       0.000000            46.000000     17.000000  \n",
       "50%        4.000000      37.000000           210.000000     55.000000  \n",
       "75%       12.000000     573.000000           902.000000    200.000000  \n",
       "max     4817.000000  144395.000000        166155.000000  46474.000000  "
      ]
     },
     "execution_count": 28,
     "metadata": {},
     "output_type": "execute_result"
    }
   ],
   "source": [
    "merged_data_with_nan.describe()"
   ]
  },
  {
   "cell_type": "code",
   "execution_count": 29,
   "metadata": {},
   "outputs": [
    {
     "data": {
      "text/html": [
       "<div>\n",
       "<style scoped>\n",
       "    .dataframe tbody tr th:only-of-type {\n",
       "        vertical-align: middle;\n",
       "    }\n",
       "\n",
       "    .dataframe tbody tr th {\n",
       "        vertical-align: top;\n",
       "    }\n",
       "\n",
       "    .dataframe thead th {\n",
       "        text-align: right;\n",
       "    }\n",
       "</style>\n",
       "<table border=\"1\" class=\"dataframe\">\n",
       "  <thead>\n",
       "    <tr style=\"text-align: right;\">\n",
       "      <th></th>\n",
       "      <th>user_id</th>\n",
       "      <th>direction</th>\n",
       "      <th>internal</th>\n",
       "      <th>operator_id</th>\n",
       "      <th>is_missed_call</th>\n",
       "      <th>calls_count</th>\n",
       "      <th>call_duration</th>\n",
       "      <th>total_call_duration</th>\n",
       "      <th>waiting_time</th>\n",
       "    </tr>\n",
       "  </thead>\n",
       "  <tbody>\n",
       "    <tr>\n",
       "      <td>count</td>\n",
       "      <td>41491.000000</td>\n",
       "      <td>41491.00000</td>\n",
       "      <td>41491.000000</td>\n",
       "      <td>41491.000000</td>\n",
       "      <td>41491.000000</td>\n",
       "      <td>41491.000000</td>\n",
       "      <td>41491.000000</td>\n",
       "      <td>41491.000000</td>\n",
       "      <td>41491.000000</td>\n",
       "    </tr>\n",
       "    <tr>\n",
       "      <td>mean</td>\n",
       "      <td>167301.113543</td>\n",
       "      <td>0.30556</td>\n",
       "      <td>0.128462</td>\n",
       "      <td>916516.771155</td>\n",
       "      <td>0.339760</td>\n",
       "      <td>16.921381</td>\n",
       "      <td>1010.940011</td>\n",
       "      <td>1323.153238</td>\n",
       "      <td>312.213227</td>\n",
       "    </tr>\n",
       "    <tr>\n",
       "      <td>std</td>\n",
       "      <td>600.513986</td>\n",
       "      <td>0.46065</td>\n",
       "      <td>0.334607</td>\n",
       "      <td>21234.081589</td>\n",
       "      <td>0.473633</td>\n",
       "      <td>59.786187</td>\n",
       "      <td>4066.666485</td>\n",
       "      <td>4788.953155</td>\n",
       "      <td>1176.102940</td>\n",
       "    </tr>\n",
       "    <tr>\n",
       "      <td>min</td>\n",
       "      <td>166377.000000</td>\n",
       "      <td>0.00000</td>\n",
       "      <td>0.000000</td>\n",
       "      <td>879896.000000</td>\n",
       "      <td>0.000000</td>\n",
       "      <td>1.000000</td>\n",
       "      <td>0.000000</td>\n",
       "      <td>0.000000</td>\n",
       "      <td>0.000000</td>\n",
       "    </tr>\n",
       "    <tr>\n",
       "      <td>25%</td>\n",
       "      <td>166782.000000</td>\n",
       "      <td>0.00000</td>\n",
       "      <td>0.000000</td>\n",
       "      <td>900790.000000</td>\n",
       "      <td>0.000000</td>\n",
       "      <td>1.000000</td>\n",
       "      <td>0.000000</td>\n",
       "      <td>67.000000</td>\n",
       "      <td>19.000000</td>\n",
       "    </tr>\n",
       "    <tr>\n",
       "      <td>50%</td>\n",
       "      <td>167175.000000</td>\n",
       "      <td>0.00000</td>\n",
       "      <td>0.000000</td>\n",
       "      <td>913938.000000</td>\n",
       "      <td>0.000000</td>\n",
       "      <td>4.000000</td>\n",
       "      <td>106.000000</td>\n",
       "      <td>289.000000</td>\n",
       "      <td>60.000000</td>\n",
       "    </tr>\n",
       "    <tr>\n",
       "      <td>75%</td>\n",
       "      <td>167827.000000</td>\n",
       "      <td>1.00000</td>\n",
       "      <td>0.000000</td>\n",
       "      <td>937708.000000</td>\n",
       "      <td>1.000000</td>\n",
       "      <td>14.000000</td>\n",
       "      <td>772.000000</td>\n",
       "      <td>1107.000000</td>\n",
       "      <td>219.000000</td>\n",
       "    </tr>\n",
       "    <tr>\n",
       "      <td>max</td>\n",
       "      <td>168606.000000</td>\n",
       "      <td>1.00000</td>\n",
       "      <td>1.000000</td>\n",
       "      <td>973286.000000</td>\n",
       "      <td>1.000000</td>\n",
       "      <td>4817.000000</td>\n",
       "      <td>144395.000000</td>\n",
       "      <td>166155.000000</td>\n",
       "      <td>46474.000000</td>\n",
       "    </tr>\n",
       "  </tbody>\n",
       "</table>\n",
       "</div>"
      ],
      "text/plain": [
       "             user_id    direction      internal    operator_id  \\\n",
       "count   41491.000000  41491.00000  41491.000000   41491.000000   \n",
       "mean   167301.113543      0.30556      0.128462  916516.771155   \n",
       "std       600.513986      0.46065      0.334607   21234.081589   \n",
       "min    166377.000000      0.00000      0.000000  879896.000000   \n",
       "25%    166782.000000      0.00000      0.000000  900790.000000   \n",
       "50%    167175.000000      0.00000      0.000000  913938.000000   \n",
       "75%    167827.000000      1.00000      0.000000  937708.000000   \n",
       "max    168606.000000      1.00000      1.000000  973286.000000   \n",
       "\n",
       "       is_missed_call   calls_count  call_duration  total_call_duration  \\\n",
       "count    41491.000000  41491.000000   41491.000000         41491.000000   \n",
       "mean         0.339760     16.921381    1010.940011          1323.153238   \n",
       "std          0.473633     59.786187    4066.666485          4788.953155   \n",
       "min          0.000000      1.000000       0.000000             0.000000   \n",
       "25%          0.000000      1.000000       0.000000            67.000000   \n",
       "50%          0.000000      4.000000     106.000000           289.000000   \n",
       "75%          1.000000     14.000000     772.000000          1107.000000   \n",
       "max          1.000000   4817.000000  144395.000000        166155.000000   \n",
       "\n",
       "       waiting_time  \n",
       "count  41491.000000  \n",
       "mean     312.213227  \n",
       "std     1176.102940  \n",
       "min        0.000000  \n",
       "25%       19.000000  \n",
       "50%       60.000000  \n",
       "75%      219.000000  \n",
       "max    46474.000000  "
      ]
     },
     "execution_count": 29,
     "metadata": {},
     "output_type": "execute_result"
    }
   ],
   "source": [
    "merged_data_nan_dropped.describe()"
   ]
  },
  {
   "cell_type": "markdown",
   "metadata": {},
   "source": [
    "<div style=\"background-color:rgb(202, 225, 246); text-align:left; border-style: dotted solid; vertical-align: middle; padding:20px 10px;\">\n",
    "As one may notice on both datasets we deal with the significant difference between mean and median values in major numerical categories (call count, call_duration, total call duration, waiting time)\n",
    "</div>"
   ]
  },
  {
   "cell_type": "code",
   "execution_count": 30,
   "metadata": {},
   "outputs": [
    {
     "data": {
      "image/png": "[encoded data removed]",
      "text/plain": [
       "<Figure size 432x288 with 1 Axes>"
      ]
     },
     "metadata": {
      "needs_background": "light"
     },
     "output_type": "display_data"
    },
    {
     "data": {
      "image/png": "[encoded data removed]",
      "text/plain": [
       "<Figure size 432x288 with 1 Axes>"
      ]
     },
     "metadata": {
      "needs_background": "light"
     },
     "output_type": "display_data"
    },
    {
     "data": {
      "image/png": "[encoded data removed]",
      "text/plain": [
       "<Figure size 432x288 with 1 Axes>"
      ]
     },
     "metadata": {
      "needs_background": "light"
     },
     "output_type": "display_data"
    },
    {
     "data": {
      "image/png": "[encoded data removed]",
      "text/plain": [
       "<Figure size 432x288 with 1 Axes>"
      ]
     },
     "metadata": {
      "needs_background": "light"
     },
     "output_type": "display_data"
    }
   ],
   "source": [
    "numerical_categories = ['calls_count', 'call_duration', 'total_call_duration', 'waiting_time']\n",
    "\n",
    "for category in numerical_categories:\n",
    "    plt.figure();\n",
    "    sns.distplot(merged_data_with_nan[category], kde=True, hist=True)\n",
    "    plt.xlabel(category)\n",
    "    plt.title(category)\n",
    "\n",
    "    plt.show();"
   ]
  },
  {
   "cell_type": "markdown",
   "metadata": {},
   "source": [
    "<div style=\"background-color:rgb(202, 225, 246); text-align:left; border-style: dotted solid; vertical-align: middle; padding:20px 10px;\">\n",
    "There are a significant outliers in the dataset, the distirbution is heavily right skewed. I suggest to drop the outliers above percentile 95%\n",
    "</div>"
   ]
  },
  {
   "cell_type": "code",
   "execution_count": 31,
   "metadata": {},
   "outputs": [
    {
     "name": "stdout",
     "output_type": "stream",
     "text": [
      "calls_count\n",
      "[ 35.    62.   165.09]\n",
      "[ 37.   65.  165.1]\n",
      "call_duration\n",
      "[ 2096.9   3730.45 10324.9 ]\n",
      "[ 2407.   4161.5 10988.3]\n",
      "total_call_duration\n",
      "[ 2614.    4538.35 12969.99]\n",
      "[ 2935.   5035.5 13654.1]\n",
      "waiting_time\n",
      "[ 615.   1164.45 3159.44]\n",
      "[ 659.  1234.5 3495.4]\n"
     ]
    }
   ],
   "source": [
    "for category in numerical_categories:\n",
    "    print(category)\n",
    "    print(np.percentile(merged_data_with_nan[category], [90, 95, 99])) \n",
    "    print(np.percentile(merged_data_nan_dropped[category], [90, 95, 99])) "
   ]
  },
  {
   "cell_type": "code",
   "execution_count": 32,
   "metadata": {},
   "outputs": [
    {
     "name": "stdout",
     "output_type": "stream",
     "text": [
      "0.9232185224576618\n",
      "0.925068087055024\n"
     ]
    }
   ],
   "source": [
    "final_dataset_nan = merged_data_with_nan.query('calls_count<=62 and call_duration<=3730 and total_call_duration<=4538')\n",
    "final_dataset_nan_skipped = merged_data_nan_dropped.query('calls_count<=65 and call_duration<=4161 and total_call_duration<=5035')\n",
    "\n",
    "print(len(final_dataset_nan)/len(merged_data_with_nan))\n",
    "print(len(final_dataset_nan_skipped)/len(merged_data_nan_dropped))"
   ]
  },
  {
   "cell_type": "code",
   "execution_count": 33,
   "metadata": {},
   "outputs": [
    {
     "data": {
      "image/png": "[encoded data removed]",
      "text/plain": [
       "<Figure size 432x288 with 1 Axes>"
      ]
     },
     "metadata": {
      "needs_background": "light"
     },
     "output_type": "display_data"
    },
    {
     "data": {
      "image/png": "[encoded data removed]",
      "text/plain": [
       "<Figure size 432x288 with 1 Axes>"
      ]
     },
     "metadata": {
      "needs_background": "light"
     },
     "output_type": "display_data"
    },
    {
     "data": {
      "image/png": "[encoded data removed]",
      "text/plain": [
       "<Figure size 432x288 with 1 Axes>"
      ]
     },
     "metadata": {
      "needs_background": "light"
     },
     "output_type": "display_data"
    },
    {
     "data": {
      "image/png": "[encoded data removed]",
      "text/plain": [
       "<Figure size 432x288 with 1 Axes>"
      ]
     },
     "metadata": {
      "needs_background": "light"
     },
     "output_type": "display_data"
    }
   ],
   "source": [
    "for category in numerical_categories:\n",
    "    plt.figure();\n",
    "    sns.distplot(final_dataset_nan_skipped[category], kde=True, hist=True)\n",
    "    plt.title(category)\n",
    "    plt.xlabel(category)\n",
    "    plt.show();"
   ]
  },
  {
   "cell_type": "markdown",
   "metadata": {},
   "source": [
    "<div style=\"background-color:rgb(202, 225, 246); text-align:left; border-style: dotted solid; vertical-align: middle; padding:20px 10px;\">\n",
    "By dropping outliers we lost less than 8% of original data. The distributions remain non normal\n",
    "</div>"
   ]
  },
  {
   "cell_type": "code",
   "execution_count": 34,
   "metadata": {},
   "outputs": [
    {
     "name": "stdout",
     "output_type": "stream",
     "text": [
      "calls_count in first dataset(with NaNs): Mean value - 7.819774912490584, Median value - 3.0\n",
      "calls_count in second dataset(without NaNs): Mean value - 8.501354801729978, Median value - 4.0\n",
      "\n",
      "call_duration in first dataset(with NaNs): Mean value - 385.9602330630511, Median value - 27.0\n",
      "call_duration in second dataset(without NaNs): Mean value - 485.64613620968163, Median value - 89.0\n",
      "\n",
      "total_call_duration in first dataset(with NaNs): Mean value - 522.5140015064912, Median value - 168.0\n",
      "total_call_duration in second dataset(without NaNs): Mean value - 632.8160596112762, Median value - 236.0\n",
      "\n",
      "waiting_time in first dataset(with NaNs): Mean value - 136.5537684434401, Median value - 47.0\n",
      "waiting_time in second dataset(without NaNs): Mean value - 147.1699234015945, Median value - 51.0\n",
      "\n"
     ]
    }
   ],
   "source": [
    "for category in numerical_categories:\n",
    "    print('{} in first dataset(with NaNs): Mean value - {}, Median value - {}'.format(category,final_dataset_nan[category].mean(), final_dataset_nan[category].median()))\n",
    "    print('{} in second dataset(without NaNs): Mean value - {}, Median value - {}'.format(category,final_dataset_nan_skipped[category].mean(), final_dataset_nan_skipped[category].median()))\n",
    "    print()\n"
   ]
  },
  {
   "cell_type": "markdown",
   "metadata": {},
   "source": [
    "<div style=\"background-color:rgb(202, 225, 246); text-align:left; border-style: dotted solid; vertical-align: middle; padding:20px 10px;\">\n",
    "I dropped the outliers but the distributions are still non-normal. I will take it into account when calculating mean values (can be replaced by mode()) </div>"
   ]
  },
  {
   "cell_type": "markdown",
   "metadata": {},
   "source": [
    "<div style=\"background-color:rgb(202, 225, 246); text-align:left; border-style: dotted solid; vertical-align: middle; padding:20px 10px;\">\n",
    "Lets do major calculations for each operator (1092 operators) </div>"
   ]
  },
  {
   "cell_type": "code",
   "execution_count": 35,
   "metadata": {},
   "outputs": [
    {
     "data": {
      "text/html": [
       "<div>\n",
       "<style scoped>\n",
       "    .dataframe tbody tr th:only-of-type {\n",
       "        vertical-align: middle;\n",
       "    }\n",
       "\n",
       "    .dataframe tbody tr th {\n",
       "        vertical-align: top;\n",
       "    }\n",
       "\n",
       "    .dataframe thead th {\n",
       "        text-align: right;\n",
       "    }\n",
       "</style>\n",
       "<table border=\"1\" class=\"dataframe\">\n",
       "  <thead>\n",
       "    <tr style=\"text-align: right;\">\n",
       "      <th></th>\n",
       "      <th>operator_id</th>\n",
       "      <th>calls_count_avg</th>\n",
       "      <th>call_duration_avg</th>\n",
       "      <th>total_call_duration_avg</th>\n",
       "      <th>waiting_time_avg</th>\n",
       "      <th>missed_calls_cnt</th>\n",
       "      <th>total_calls_cnt</th>\n",
       "      <th>direction_in</th>\n",
       "      <th>direction_total</th>\n",
       "      <th>direction_out</th>\n",
       "    </tr>\n",
       "  </thead>\n",
       "  <tbody>\n",
       "    <tr>\n",
       "      <td>0</td>\n",
       "      <td>879896.0</td>\n",
       "      <td>5.508772</td>\n",
       "      <td>367.008772</td>\n",
       "      <td>452.026316</td>\n",
       "      <td>85.017544</td>\n",
       "      <td>47</td>\n",
       "      <td>114</td>\n",
       "      <td>21</td>\n",
       "      <td>114</td>\n",
       "      <td>93</td>\n",
       "    </tr>\n",
       "    <tr>\n",
       "      <td>1</td>\n",
       "      <td>879898.0</td>\n",
       "      <td>20.502674</td>\n",
       "      <td>462.010695</td>\n",
       "      <td>811.187166</td>\n",
       "      <td>349.176471</td>\n",
       "      <td>87</td>\n",
       "      <td>187</td>\n",
       "      <td>56</td>\n",
       "      <td>187</td>\n",
       "      <td>131</td>\n",
       "    </tr>\n",
       "    <tr>\n",
       "      <td>2</td>\n",
       "      <td>880020.0</td>\n",
       "      <td>2.250000</td>\n",
       "      <td>112.250000</td>\n",
       "      <td>126.250000</td>\n",
       "      <td>14.000000</td>\n",
       "      <td>6</td>\n",
       "      <td>20</td>\n",
       "      <td>7</td>\n",
       "      <td>20</td>\n",
       "      <td>13</td>\n",
       "    </tr>\n",
       "    <tr>\n",
       "      <td>3</td>\n",
       "      <td>880022.0</td>\n",
       "      <td>2.814286</td>\n",
       "      <td>216.385714</td>\n",
       "      <td>270.357143</td>\n",
       "      <td>53.971429</td>\n",
       "      <td>29</td>\n",
       "      <td>70</td>\n",
       "      <td>8</td>\n",
       "      <td>70</td>\n",
       "      <td>62</td>\n",
       "    </tr>\n",
       "    <tr>\n",
       "      <td>4</td>\n",
       "      <td>880026.0</td>\n",
       "      <td>12.263736</td>\n",
       "      <td>842.450549</td>\n",
       "      <td>964.428571</td>\n",
       "      <td>121.978022</td>\n",
       "      <td>87</td>\n",
       "      <td>182</td>\n",
       "      <td>18</td>\n",
       "      <td>182</td>\n",
       "      <td>164</td>\n",
       "    </tr>\n",
       "  </tbody>\n",
       "</table>\n",
       "</div>"
      ],
      "text/plain": [
       "   operator_id  calls_count_avg  call_duration_avg  total_call_duration_avg  \\\n",
       "0     879896.0         5.508772         367.008772               452.026316   \n",
       "1     879898.0        20.502674         462.010695               811.187166   \n",
       "2     880020.0         2.250000         112.250000               126.250000   \n",
       "3     880022.0         2.814286         216.385714               270.357143   \n",
       "4     880026.0        12.263736         842.450549               964.428571   \n",
       "\n",
       "   waiting_time_avg  missed_calls_cnt  total_calls_cnt  direction_in  \\\n",
       "0         85.017544                47              114            21   \n",
       "1        349.176471                87              187            56   \n",
       "2         14.000000                 6               20             7   \n",
       "3         53.971429                29               70             8   \n",
       "4        121.978022                87              182            18   \n",
       "\n",
       "   direction_total  direction_out  \n",
       "0              114             93  \n",
       "1              187            131  \n",
       "2               20             13  \n",
       "3               70             62  \n",
       "4              182            164  "
      ]
     },
     "metadata": {},
     "output_type": "display_data"
    },
    {
     "data": {
      "text/plain": [
       "(1092, 10)"
      ]
     },
     "metadata": {},
     "output_type": "display_data"
    }
   ],
   "source": [
    "operators = final_dataset_nan_skipped.groupby('operator_id').agg({'calls_count': 'mean', 'call_duration': 'mean', 'total_call_duration': 'mean', 'waiting_time': 'mean', 'is_missed_call': ['sum', 'count'], 'direction': ['sum', 'count']}).reset_index()\n",
    "operators.columns = ['operator_id', 'calls_count_avg', 'call_duration_avg', 'total_call_duration_avg', 'waiting_time_avg', 'missed_calls_cnt', 'total_calls_cnt', 'direction_in', 'direction_total' ]\n",
    "operators['direction_out'] = operators['direction_total']- operators['direction_in']\n",
    "display(operators.head())\n",
    "display(operators.shape)"
   ]
  },
  {
   "cell_type": "code",
   "execution_count": 36,
   "metadata": {},
   "outputs": [
    {
     "data": {
      "image/png": "[encoded data removed]",
      "text/plain": [
       "<Figure size 432x288 with 1 Axes>"
      ]
     },
     "metadata": {
      "needs_background": "light"
     },
     "output_type": "display_data"
    },
    {
     "data": {
      "image/png": "[encoded data removed]",
      "text/plain": [
       "<Figure size 432x288 with 1 Axes>"
      ]
     },
     "metadata": {
      "needs_background": "light"
     },
     "output_type": "display_data"
    },
    {
     "data": {
      "image/png": "[encoded data removed]",
      "text/plain": [
       "<Figure size 432x288 with 1 Axes>"
      ]
     },
     "metadata": {
      "needs_background": "light"
     },
     "output_type": "display_data"
    },
    {
     "data": {
      "image/png": "[encoded data removed]",
      "text/plain": [
       "<Figure size 432x288 with 1 Axes>"
      ]
     },
     "metadata": {
      "needs_background": "light"
     },
     "output_type": "display_data"
    },
    {
     "data": {
      "image/png": "[encoded data removed]",
      "text/plain": [
       "<Figure size 432x288 with 1 Axes>"
      ]
     },
     "metadata": {
      "needs_background": "light"
     },
     "output_type": "display_data"
    },
    {
     "data": {
      "image/png": "[encoded data removed]",
      "text/plain": [
       "<Figure size 432x288 with 1 Axes>"
      ]
     },
     "metadata": {
      "needs_background": "light"
     },
     "output_type": "display_data"
    },
    {
     "data": {
      "image/png": "[encoded data removed]",
      "text/plain": [
       "<Figure size 432x288 with 1 Axes>"
      ]
     },
     "metadata": {
      "needs_background": "light"
     },
     "output_type": "display_data"
    },
    {
     "data": {
      "image/png": "[encoded data removed]",
      "text/plain": [
       "<Figure size 432x288 with 1 Axes>"
      ]
     },
     "metadata": {
      "needs_background": "light"
     },
     "output_type": "display_data"
    },
    {
     "data": {
      "image/png": "[encoded data removed]",
      "text/plain": [
       "<Figure size 432x288 with 1 Axes>"
      ]
     },
     "metadata": {
      "needs_background": "light"
     },
     "output_type": "display_data"
    }
   ],
   "source": [
    "for category in operators.columns:\n",
    "    if category != 'operator_id':\n",
    "        plt.figure();\n",
    "        sns.distplot(operators[category], kde=True, hist=True)\n",
    "        plt.title(category)\n",
    "        plt.xlabel(category)\n",
    "        plt.show();"
   ]
  },
  {
   "cell_type": "markdown",
   "metadata": {},
   "source": [
    "<div style=\"background-color:rgb(202, 225, 246); text-align:left; border-style: dotted solid; vertical-align: middle; padding:20px 10px;\">\n",
    "There are 210 users who are likely not supposed to make outgoing calls. Lets create two additional datasets based on this parameter: </div>"
   ]
  },
  {
   "cell_type": "code",
   "execution_count": 37,
   "metadata": {},
   "outputs": [
    {
     "data": {
      "text/plain": [
       "(210, 10)"
      ]
     },
     "metadata": {},
     "output_type": "display_data"
    },
    {
     "data": {
      "text/plain": [
       "(544, 10)"
      ]
     },
     "metadata": {},
     "output_type": "display_data"
    },
    {
     "data": {
      "text/plain": [
       "(338, 10)"
      ]
     },
     "metadata": {},
     "output_type": "display_data"
    }
   ],
   "source": [
    "operators_without_out_calls = operators.query('direction_out == 0')\n",
    "display(operators_without_out_calls.shape)\n",
    "operators_with_in_out_calls = operators.query('direction_out > 0 and direction_in>0')\n",
    "display(operators_with_in_out_calls.shape)\n",
    "operators__out_calls_only = operators.query('direction_in == 0')\n",
    "display(operators__out_calls_only.shape)"
   ]
  },
  {
   "cell_type": "markdown",
   "metadata": {},
   "source": [
    "<div style=\"background-color:rgb(202, 225, 246); text-align:left; border-style: dotted solid; vertical-align: middle; padding:20px 10px;\">\n",
    "It should be additionally mentioned that the waiting time category was calculated for both ingoing and outgoing calls. However, in order to analyze effectivity of operators it is reasonable to look at the dataslice of incoming calls only: </div>"
   ]
  },
  {
   "cell_type": "code",
   "execution_count": 38,
   "metadata": {},
   "outputs": [
    {
     "data": {
      "text/plain": [
       "32.09056328487312"
      ]
     },
     "metadata": {},
     "output_type": "display_data"
    }
   ],
   "source": [
    "incoming_calls = final_dataset_nan_skipped.query('direction == 1')\n",
    "display(incoming_calls.shape[0]/final_dataset_nan_skipped.shape[0]*100)\n",
    "operators_incalls = incoming_calls.groupby('operator_id').agg({'waiting_time': 'mean', 'is_missed_call':['sum', 'count']}).reset_index()\n",
    "operators_incalls.columns = ['operator_id','waiting_time_avg', 'missed_calls', 'total_calls']\n",
    "\n",
    "operators['waiting_time_avg'] = operators_incalls['waiting_time_avg']"
   ]
  },
  {
   "cell_type": "code",
   "execution_count": 39,
   "metadata": {},
   "outputs": [
    {
     "data": {
      "text/html": [
       "<div>\n",
       "<style scoped>\n",
       "    .dataframe tbody tr th:only-of-type {\n",
       "        vertical-align: middle;\n",
       "    }\n",
       "\n",
       "    .dataframe tbody tr th {\n",
       "        vertical-align: top;\n",
       "    }\n",
       "\n",
       "    .dataframe thead th {\n",
       "        text-align: right;\n",
       "    }\n",
       "</style>\n",
       "<table border=\"1\" class=\"dataframe\">\n",
       "  <thead>\n",
       "    <tr style=\"text-align: right;\">\n",
       "      <th></th>\n",
       "      <th>operator_id</th>\n",
       "      <th>waiting_time_avg</th>\n",
       "      <th>missed_calls</th>\n",
       "      <th>total_calls</th>\n",
       "    </tr>\n",
       "  </thead>\n",
       "  <tbody>\n",
       "    <tr>\n",
       "      <td>0</td>\n",
       "      <td>879896.0</td>\n",
       "      <td>27.333333</td>\n",
       "      <td>0</td>\n",
       "      <td>21</td>\n",
       "    </tr>\n",
       "    <tr>\n",
       "      <td>1</td>\n",
       "      <td>879898.0</td>\n",
       "      <td>29.875000</td>\n",
       "      <td>1</td>\n",
       "      <td>56</td>\n",
       "    </tr>\n",
       "    <tr>\n",
       "      <td>2</td>\n",
       "      <td>880020.0</td>\n",
       "      <td>7.714286</td>\n",
       "      <td>0</td>\n",
       "      <td>7</td>\n",
       "    </tr>\n",
       "    <tr>\n",
       "      <td>3</td>\n",
       "      <td>880022.0</td>\n",
       "      <td>14.000000</td>\n",
       "      <td>0</td>\n",
       "      <td>8</td>\n",
       "    </tr>\n",
       "    <tr>\n",
       "      <td>4</td>\n",
       "      <td>880026.0</td>\n",
       "      <td>7.944444</td>\n",
       "      <td>0</td>\n",
       "      <td>18</td>\n",
       "    </tr>\n",
       "  </tbody>\n",
       "</table>\n",
       "</div>"
      ],
      "text/plain": [
       "   operator_id  waiting_time_avg  missed_calls  total_calls\n",
       "0     879896.0         27.333333             0           21\n",
       "1     879898.0         29.875000             1           56\n",
       "2     880020.0          7.714286             0            7\n",
       "3     880022.0         14.000000             0            8\n",
       "4     880026.0          7.944444             0           18"
      ]
     },
     "metadata": {},
     "output_type": "display_data"
    },
    {
     "data": {
      "text/plain": [
       "(754, 4)"
      ]
     },
     "metadata": {},
     "output_type": "display_data"
    }
   ],
   "source": [
    "display(operators_incalls.head())\n",
    "display(operators_incalls.shape)"
   ]
  },
  {
   "cell_type": "code",
   "execution_count": 40,
   "metadata": {},
   "outputs": [
    {
     "name": "stdout",
     "output_type": "stream",
     "text": [
      "(1092, 10) (754, 4)\n"
     ]
    }
   ],
   "source": [
    "print(operators.shape, operators_incalls.shape)"
   ]
  },
  {
   "cell_type": "code",
   "execution_count": 41,
   "metadata": {},
   "outputs": [
    {
     "data": {
      "text/plain": [
       "0    11705\n",
       "1      612\n",
       "Name: is_missed_call, dtype: int64"
      ]
     },
     "execution_count": 41,
     "metadata": {},
     "output_type": "execute_result"
    }
   ],
   "source": [
    "incoming_calls.is_missed_call.value_counts()"
   ]
  },
  {
   "cell_type": "markdown",
   "metadata": {},
   "source": [
    "<div style=\"background-color:rgb(202, 225, 246); text-align:left; border-style: dotted solid; vertical-align: middle; padding:20px 10px;\">\n",
    "Only 32% of the original dataset is about incoming calls. So I added the average waiting time only for operators that make incoming calls (there are NaN values for waiting time in rows describing outgoing calls  </div>"
   ]
  },
  {
   "cell_type": "code",
   "execution_count": 42,
   "metadata": {},
   "outputs": [
    {
     "name": "stdout",
     "output_type": "stream",
     "text": [
      "calls_count_avg: Mean - 7.570227374137064, Median - 2.916277258566978 \n",
      "\n",
      "call_duration_avg: Mean - 335.5670382085529, Median - 222.9689709347997 \n",
      "\n",
      "total_call_duration_avg: Mean - 478.8356772220319, Median - 290.53785573653124 \n",
      "\n",
      "waiting_time_avg: Mean - 51.65364077913168, Median - 30.775 \n",
      "\n",
      "missed_calls_cnt: Mean - 12.147435897435898, Median - 5.0 \n",
      "\n",
      "total_calls_cnt: Mean - 35.14835164835165, Median - 15.0 \n",
      "\n",
      "direction_in: Mean - 11.27930402930403, Median - 3.0 \n",
      "\n",
      "direction_total: Mean - 35.14835164835165, Median - 15.0 \n",
      "\n",
      "direction_out: Mean - 23.86904761904762, Median - 9.0 \n",
      "\n"
     ]
    }
   ],
   "source": [
    "for column in operators.columns:\n",
    "    if column not in ['operator_id']:\n",
    "        print('{}: Mean - {}, Median - {} \\n'.format(column, operators[column].mean(),operators[column].median()))"
   ]
  },
  {
   "cell_type": "markdown",
   "metadata": {},
   "source": [
    "<div style=\"background-color:rgb(202, 225, 246); text-align:left; border-style: dotted solid; vertical-align: middle; padding:20px 10px;\">\n",
    "All distributions are right skewed (based on both visalisations and mean/median calculations). I will use median values for further calculations (hypotheses) </div>"
   ]
  },
  {
   "cell_type": "markdown",
   "metadata": {},
   "source": [
    "<div style=\"background-color:rgb(202, 225, 246); text-align:left; border-style: dotted solid; vertical-align: middle; padding:20px 10px;\">\n",
    "It should be mentioned that on the previous step the mean and median calculations (on missed calls) were made for both incoming and outgoing calls. Lets calculate the median and mean (on missed calls) only for incoming calls</div>"
   ]
  },
  {
   "cell_type": "code",
   "execution_count": 43,
   "metadata": {},
   "outputs": [
    {
     "name": "stdout",
     "output_type": "stream",
     "text": [
      "Mean:\n"
     ]
    },
    {
     "data": {
      "text/plain": [
       "0.8116710875331565"
      ]
     },
     "metadata": {},
     "output_type": "display_data"
    },
    {
     "name": "stdout",
     "output_type": "stream",
     "text": [
      "Median:\n"
     ]
    },
    {
     "data": {
      "text/plain": [
       "0.0"
      ]
     },
     "metadata": {},
     "output_type": "display_data"
    }
   ],
   "source": [
    "print('Mean:')\n",
    "display(operators_incalls['missed_calls'].mean())\n",
    "print('Median:')\n",
    "display(operators_incalls['missed_calls'].median())"
   ]
  },
  {
   "cell_type": "code",
   "execution_count": 44,
   "metadata": {},
   "outputs": [
    {
     "data": {
      "text/html": [
       "<style  type=\"text/css\" >\n",
       "    #T_8edaed88_9791_11eb_86ec_02420a39bf72row0_col0 {\n",
       "            background-color:  #f7fbff;\n",
       "            color:  #000000;\n",
       "        }    #T_8edaed88_9791_11eb_86ec_02420a39bf72row0_col1 {\n",
       "            background-color:  #f7fbff;\n",
       "            color:  #000000;\n",
       "        }    #T_8edaed88_9791_11eb_86ec_02420a39bf72row0_col2 {\n",
       "            background-color:  #f7fbff;\n",
       "            color:  #000000;\n",
       "        }    #T_8edaed88_9791_11eb_86ec_02420a39bf72row0_col3 {\n",
       "            background-color:  #f7fbff;\n",
       "            color:  #000000;\n",
       "        }    #T_8edaed88_9791_11eb_86ec_02420a39bf72row1_col0 {\n",
       "            background-color:  #2676b8;\n",
       "            color:  #000000;\n",
       "        }    #T_8edaed88_9791_11eb_86ec_02420a39bf72row1_col1 {\n",
       "            background-color:  #4d99ca;\n",
       "            color:  #000000;\n",
       "        }    #T_8edaed88_9791_11eb_86ec_02420a39bf72row1_col2 {\n",
       "            background-color:  #08306b;\n",
       "            color:  #f1f1f1;\n",
       "        }    #T_8edaed88_9791_11eb_86ec_02420a39bf72row1_col3 {\n",
       "            background-color:  #08306b;\n",
       "            color:  #f1f1f1;\n",
       "        }    #T_8edaed88_9791_11eb_86ec_02420a39bf72row2_col0 {\n",
       "            background-color:  #08306b;\n",
       "            color:  #f1f1f1;\n",
       "        }    #T_8edaed88_9791_11eb_86ec_02420a39bf72row2_col1 {\n",
       "            background-color:  #08306b;\n",
       "            color:  #f1f1f1;\n",
       "        }    #T_8edaed88_9791_11eb_86ec_02420a39bf72row2_col2 {\n",
       "            background-color:  #084082;\n",
       "            color:  #f1f1f1;\n",
       "        }    #T_8edaed88_9791_11eb_86ec_02420a39bf72row2_col3 {\n",
       "            background-color:  #084082;\n",
       "            color:  #f1f1f1;\n",
       "        }</style><table id=\"T_8edaed88_9791_11eb_86ec_02420a39bf72\" ><thead>    <tr>        <th class=\"blank level0\" ></th>        <th class=\"col_heading level0 col0\" >missed_calls_cnt</th>        <th class=\"col_heading level0 col1\" >total_calls</th>        <th class=\"col_heading level0 col2\" >avg_missed_calls</th>        <th class=\"col_heading level0 col3\" >missed_calls_cnt_%</th>    </tr>    <tr>        <th class=\"index_name level0\" >tariff_plan</th>        <th class=\"blank\" ></th>        <th class=\"blank\" ></th>        <th class=\"blank\" ></th>        <th class=\"blank\" ></th>    </tr></thead><tbody>\n",
       "                <tr>\n",
       "                        <th id=\"T_8edaed88_9791_11eb_86ec_02420a39bf72level0_row0\" class=\"row_heading level0 row0\" >A</th>\n",
       "                        <td id=\"T_8edaed88_9791_11eb_86ec_02420a39bf72row0_col0\" class=\"data row0 col0\" >1250</td>\n",
       "                        <td id=\"T_8edaed88_9791_11eb_86ec_02420a39bf72row0_col1\" class=\"data row0 col1\" >4395</td>\n",
       "                        <td id=\"T_8edaed88_9791_11eb_86ec_02420a39bf72row0_col2\" class=\"data row0 col2\" >0.284414</td>\n",
       "                        <td id=\"T_8edaed88_9791_11eb_86ec_02420a39bf72row0_col3\" class=\"data row0 col3\" >28.4414</td>\n",
       "            </tr>\n",
       "            <tr>\n",
       "                        <th id=\"T_8edaed88_9791_11eb_86ec_02420a39bf72level0_row1\" class=\"row_heading level0 row1\" >B</th>\n",
       "                        <td id=\"T_8edaed88_9791_11eb_86ec_02420a39bf72row1_col0\" class=\"data row1 col0\" >2854</td>\n",
       "                        <td id=\"T_8edaed88_9791_11eb_86ec_02420a39bf72row1_col1\" class=\"data row1 col1\" >6636</td>\n",
       "                        <td id=\"T_8edaed88_9791_11eb_86ec_02420a39bf72row1_col2\" class=\"data row1 col2\" >0.430078</td>\n",
       "                        <td id=\"T_8edaed88_9791_11eb_86ec_02420a39bf72row1_col3\" class=\"data row1 col3\" >43.0078</td>\n",
       "            </tr>\n",
       "            <tr>\n",
       "                        <th id=\"T_8edaed88_9791_11eb_86ec_02420a39bf72level0_row2\" class=\"row_heading level0 row2\" >C</th>\n",
       "                        <td id=\"T_8edaed88_9791_11eb_86ec_02420a39bf72row2_col0\" class=\"data row2 col0\" >3452</td>\n",
       "                        <td id=\"T_8edaed88_9791_11eb_86ec_02420a39bf72row2_col1\" class=\"data row2 col1\" >8191</td>\n",
       "                        <td id=\"T_8edaed88_9791_11eb_86ec_02420a39bf72row2_col2\" class=\"data row2 col2\" >0.421438</td>\n",
       "                        <td id=\"T_8edaed88_9791_11eb_86ec_02420a39bf72row2_col3\" class=\"data row2 col3\" >42.1438</td>\n",
       "            </tr>\n",
       "    </tbody></table>"
      ],
      "text/plain": [
       "<pandas.io.formats.style.Styler at 0x7f388f765f50>"
      ]
     },
     "execution_count": 44,
     "metadata": {},
     "output_type": "execute_result"
    }
   ],
   "source": [
    "incoming_calls_2 = final_dataset_nan.query('direction == 1')\n",
    "tariff_users = incoming_calls_2.groupby('tariff_plan').agg({'is_missed_call': ['sum', 'count', 'mean']})\n",
    "tariff_users.columns = ['missed_calls_cnt', 'total_calls', 'avg_missed_calls']\n",
    "tariff_users['missed_calls_cnt_%'] = tariff_users['missed_calls_cnt']/tariff_users['total_calls']*100\n",
    "tariff_users\n",
    "tariff_users.style.background_gradient(cmap='Blues')"
   ]
  },
  {
   "cell_type": "markdown",
   "metadata": {},
   "source": [
    "<div style=\"background-color:rgb(202, 225, 246); text-align:left; border-style: dotted solid; vertical-align: middle; padding:20px 10px;\">\n",
    "There is difference in percentage of missed calls between users with A and C tariffs (incoming calls). Whether this difference is stastistically significant will be checked later </div>"
   ]
  },
  {
   "cell_type": "code",
   "execution_count": 45,
   "metadata": {},
   "outputs": [
    {
     "data": {
      "text/plain": [
       "<seaborn.axisgrid.FacetGrid at 0x7f388eee5f10>"
      ]
     },
     "execution_count": 45,
     "metadata": {},
     "output_type": "execute_result"
    },
    {
     "data": {
      "image/png": "[encoded data removed]",
      "text/plain": [
       "<Figure size 727x216 with 3 Axes>"
      ]
     },
     "metadata": {
      "needs_background": "light"
     },
     "output_type": "display_data"
    }
   ],
   "source": [
    "g = sns.FacetGrid(incoming_calls_2, col=\"tariff_plan\", hue=\"is_missed_call\")\n",
    "g.map(sns.scatterplot, \"waiting_time\", \"calls_count\", alpha=.5)\n",
    "g.add_legend()"
   ]
  },
  {
   "cell_type": "markdown",
   "metadata": {},
   "source": [
    "<div style=\"background-color:rgb(202, 225, 246); text-align:left; border-style: dotted solid; vertical-align: middle; padding:20px 10px;\">\n",
    "On the scatter plot visualisation one may notice slight differences in  missed/non missed calls distributions between various tariff plans. In general, one may assume that the users on B plan demonstrate more patience to longer waiting time. However, in general, there ano not strong correlations between diffeent parameters </div>"
   ]
  },
  {
   "cell_type": "code",
   "execution_count": 46,
   "metadata": {},
   "outputs": [
    {
     "data": {
      "image/png": "[encoded data removed]",
      "text/plain": [
       "<Figure size 1224x576 with 2 Axes>"
      ]
     },
     "metadata": {
      "needs_background": "light"
     },
     "output_type": "display_data"
    }
   ],
   "source": [
    "cm = merged_data_with_nan.corr()  \n",
    "fig, ax = plt.subplots(figsize=(17, 8))\n",
    "sns.heatmap(cm, annot = True, square=True)\n",
    "plt.show()"
   ]
  },
  {
   "cell_type": "markdown",
   "metadata": {},
   "source": [
    "<div style=\"background-color:rgb(202, 225, 246); text-align:left; border-style: dotted solid; vertical-align: middle; padding:20px 10px;\">\n",
    "There is no any uncommon correlations between various categories (only obvious ones) </div>"
   ]
  },
  {
   "cell_type": "markdown",
   "metadata": {},
   "source": [
    "<div style=\"background-color:rgb(247, 194, 87); text-align:left; border-style: dotted solid; vertical-align: middle; padding:20px 10px;\">\n",
    "    <strong>General conclusions on EDA stage:</strong>\n",
    "<ol>\n",
    "    <li>The data in all categories within dataset is not distributed normally (the distributions are right skewed. In other words, there is a large number of ouliers and </li>\n",
    "    <li> After dropping the most explicit outliers I got the following calculations results (for the dataslice without NaN values in operator_id):</li>\n",
    "    <ol>\n",
    "        <li>the average number of calls in one sequence of calls 9 calls (median - 4 calls) </li>\n",
    "        <li>the average duration of one call is 486 sec (median - 89 sec) </li>\n",
    "        <li>the average waiting time for the incoming calls is 147 sec (median 51 sec)</li>    \n",
    "    </ol>\n",
    "    <li>After grouping data by operators I got the following general calculations:\n",
    "        <ol>\n",
    "        <li>In average each operator processes 8 calls  (median - 3 calls)</li>\n",
    "            <li>The average call duration per operator is 336 sec (median - 223 sec)</li>\n",
    "            <li>The average waiting time for incoming calls per operator is 143 sec (median 45 sec)</li>\n",
    "            <li>In average an operator misses 12 calls (incoming and outcoming) (median - 5 calls). If we speak only about incoming calls, in average operator misses 0.8 calls (median - 0). That means that most of missing calls are for outgoing calls (when operator cannot reach user for some external reason). In other words, the missed outgoing call cannot indicate ineffectivity of operator</li>\n",
    "        </ol>\n",
    "    </li>\n",
    "    <li>In average, operator processes 11 incoming calls and 24 outcoming calls (median 3 and 9 respectively). </li>\n",
    "    <li>No direct (linear) correlation was found between missing calls and any other category.</li>\n",
    "    <li>There are differences in missed calls percentage for users on different tariff plans. The significance of these variations will be checked below</li>\n",
    "    </ol>\n",
    "    </div>"
   ]
  },
  {
   "cell_type": "markdown",
   "metadata": {},
   "source": [
    "## Hypotheses <a class=\"anchor\" id=\"chapter3\"></a>"
   ]
  },
  {
   "cell_type": "markdown",
   "metadata": {},
   "source": [
    "### <strong>1st hypothesis</strong>"
   ]
  },
  {
   "cell_type": "markdown",
   "metadata": {},
   "source": [
    "<div style=\"background-color:rgb(202, 225, 246); text-align:left; border-style: dotted solid; vertical-align: middle; padding:20px 10px;\">\n",
    "<p> <strong>Null</strong>: There is no significant change in missed calls number when the average waiting time is more than <strong>value</strong> or when the average waiting time is less than <strong>value</strong> (the value will be defined after exploratory analysis).\n",
    "<p> <strong>Alternative</strong>: The missed calls number changes when the average waiting time is more than <strong>value</strong> or when the average waiting time is less than <strong>value</strong>\n",
    "\n",
    "Steps:\n",
    "1. To find the mean (median) value of  waiting time (<strong>done in previous step: mean 51.65364077913168  </strong>). \n",
    "2. To use this data to split operators into 2 categories: with mean waiting time more than general mean value and with the mean waiting time less than general mean value.\n",
    "3. To calculate the mean value of missed calls for each group.\n",
    "4. To check statisical significance of variations. \n",
    "5. To draw conclusions concerning the correlation between waiting time and the number of missed calls.\n",
    "    \n",
    "    \n",
    "Mann-Whitney test will be used to check hypotheses due to non normal distribution of the data\n",
    "    </div>"
   ]
  },
  {
   "cell_type": "code",
   "execution_count": 47,
   "metadata": {},
   "outputs": [],
   "source": [
    "def test(sample1, sample2):\n",
    "    alpha = .05 #significance level\n",
    "    results = st.mannwhitneyu(sample1,sample2)\n",
    "    print('p-value: ', results.pvalue)\n",
    "    if (results.pvalue < alpha):\n",
    "        print(\"Null hypothesis rejected: the difference is statistically significant\")\n",
    "    else:\n",
    "        print(\"Failed to reject the null hypothesis: we can't make conclusions about the difference\")"
   ]
  },
  {
   "cell_type": "code",
   "execution_count": 48,
   "metadata": {},
   "outputs": [
    {
     "data": {
      "text/html": [
       "<div>\n",
       "<style scoped>\n",
       "    .dataframe tbody tr th:only-of-type {\n",
       "        vertical-align: middle;\n",
       "    }\n",
       "\n",
       "    .dataframe tbody tr th {\n",
       "        vertical-align: top;\n",
       "    }\n",
       "\n",
       "    .dataframe thead th {\n",
       "        text-align: right;\n",
       "    }\n",
       "</style>\n",
       "<table border=\"1\" class=\"dataframe\">\n",
       "  <thead>\n",
       "    <tr style=\"text-align: right;\">\n",
       "      <th></th>\n",
       "      <th>operator_id</th>\n",
       "      <th>waiting_time_avg</th>\n",
       "      <th>missed_calls</th>\n",
       "      <th>total_calls</th>\n",
       "      <th>missed_calls_cnt_%</th>\n",
       "    </tr>\n",
       "  </thead>\n",
       "  <tbody>\n",
       "    <tr>\n",
       "      <td>0</td>\n",
       "      <td>879896.0</td>\n",
       "      <td>27.333333</td>\n",
       "      <td>0</td>\n",
       "      <td>21</td>\n",
       "      <td>0.000000</td>\n",
       "    </tr>\n",
       "    <tr>\n",
       "      <td>1</td>\n",
       "      <td>879898.0</td>\n",
       "      <td>29.875000</td>\n",
       "      <td>1</td>\n",
       "      <td>56</td>\n",
       "      <td>1.785714</td>\n",
       "    </tr>\n",
       "    <tr>\n",
       "      <td>2</td>\n",
       "      <td>880020.0</td>\n",
       "      <td>7.714286</td>\n",
       "      <td>0</td>\n",
       "      <td>7</td>\n",
       "      <td>0.000000</td>\n",
       "    </tr>\n",
       "    <tr>\n",
       "      <td>3</td>\n",
       "      <td>880022.0</td>\n",
       "      <td>14.000000</td>\n",
       "      <td>0</td>\n",
       "      <td>8</td>\n",
       "      <td>0.000000</td>\n",
       "    </tr>\n",
       "    <tr>\n",
       "      <td>4</td>\n",
       "      <td>880026.0</td>\n",
       "      <td>7.944444</td>\n",
       "      <td>0</td>\n",
       "      <td>18</td>\n",
       "      <td>0.000000</td>\n",
       "    </tr>\n",
       "    <tr>\n",
       "      <td>...</td>\n",
       "      <td>...</td>\n",
       "      <td>...</td>\n",
       "      <td>...</td>\n",
       "      <td>...</td>\n",
       "      <td>...</td>\n",
       "    </tr>\n",
       "    <tr>\n",
       "      <td>749</td>\n",
       "      <td>971102.0</td>\n",
       "      <td>286.000000</td>\n",
       "      <td>0</td>\n",
       "      <td>3</td>\n",
       "      <td>0.000000</td>\n",
       "    </tr>\n",
       "    <tr>\n",
       "      <td>750</td>\n",
       "      <td>971354.0</td>\n",
       "      <td>42.000000</td>\n",
       "      <td>0</td>\n",
       "      <td>2</td>\n",
       "      <td>0.000000</td>\n",
       "    </tr>\n",
       "    <tr>\n",
       "      <td>751</td>\n",
       "      <td>972412.0</td>\n",
       "      <td>25.000000</td>\n",
       "      <td>0</td>\n",
       "      <td>1</td>\n",
       "      <td>0.000000</td>\n",
       "    </tr>\n",
       "    <tr>\n",
       "      <td>752</td>\n",
       "      <td>972460.0</td>\n",
       "      <td>4.000000</td>\n",
       "      <td>0</td>\n",
       "      <td>1</td>\n",
       "      <td>0.000000</td>\n",
       "    </tr>\n",
       "    <tr>\n",
       "      <td>753</td>\n",
       "      <td>973286.0</td>\n",
       "      <td>88.000000</td>\n",
       "      <td>0</td>\n",
       "      <td>1</td>\n",
       "      <td>0.000000</td>\n",
       "    </tr>\n",
       "  </tbody>\n",
       "</table>\n",
       "<p>754 rows × 5 columns</p>\n",
       "</div>"
      ],
      "text/plain": [
       "     operator_id  waiting_time_avg  missed_calls  total_calls  \\\n",
       "0       879896.0         27.333333             0           21   \n",
       "1       879898.0         29.875000             1           56   \n",
       "2       880020.0          7.714286             0            7   \n",
       "3       880022.0         14.000000             0            8   \n",
       "4       880026.0          7.944444             0           18   \n",
       "..           ...               ...           ...          ...   \n",
       "749     971102.0        286.000000             0            3   \n",
       "750     971354.0         42.000000             0            2   \n",
       "751     972412.0         25.000000             0            1   \n",
       "752     972460.0          4.000000             0            1   \n",
       "753     973286.0         88.000000             0            1   \n",
       "\n",
       "     missed_calls_cnt_%  \n",
       "0              0.000000  \n",
       "1              1.785714  \n",
       "2              0.000000  \n",
       "3              0.000000  \n",
       "4              0.000000  \n",
       "..                  ...  \n",
       "749            0.000000  \n",
       "750            0.000000  \n",
       "751            0.000000  \n",
       "752            0.000000  \n",
       "753            0.000000  \n",
       "\n",
       "[754 rows x 5 columns]"
      ]
     },
     "execution_count": 48,
     "metadata": {},
     "output_type": "execute_result"
    }
   ],
   "source": [
    "# the dataslice with incoming calls only\n",
    "operators_incalls['missed_calls_cnt_%'] = operators_incalls['missed_calls']/operators_incalls['total_calls']*100\n",
    "operators_incalls"
   ]
  },
  {
   "cell_type": "code",
   "execution_count": 49,
   "metadata": {},
   "outputs": [],
   "source": [
    "#splitting the data \n",
    "mean = 51.65364077913168\n",
    "a_group = operators_incalls.query('waiting_time_avg < @mean')\n",
    "b_group = operators_incalls.query('waiting_time_avg >= @mean')\n"
   ]
  },
  {
   "cell_type": "code",
   "execution_count": 50,
   "metadata": {},
   "outputs": [
    {
     "data": {
      "text/plain": [
       "3.8856705448195608"
      ]
     },
     "metadata": {},
     "output_type": "display_data"
    },
    {
     "data": {
      "text/plain": [
       "0.4044943820224719"
      ]
     },
     "metadata": {},
     "output_type": "display_data"
    }
   ],
   "source": [
    "display(a_group['missed_calls_cnt_%'].mean())\n",
    "display(a_group['missed_calls'].mean())\n"
   ]
  },
  {
   "cell_type": "code",
   "execution_count": 51,
   "metadata": {},
   "outputs": [
    {
     "data": {
      "text/plain": [
       "6.103557129737909"
      ]
     },
     "metadata": {},
     "output_type": "display_data"
    },
    {
     "data": {
      "text/plain": [
       "1.8"
      ]
     },
     "metadata": {},
     "output_type": "display_data"
    }
   ],
   "source": [
    "display(b_group['missed_calls_cnt_%'].mean())\n",
    "display(b_group['missed_calls'].mean())\n"
   ]
  },
  {
   "cell_type": "code",
   "execution_count": 52,
   "metadata": {},
   "outputs": [
    {
     "name": "stdout",
     "output_type": "stream",
     "text": [
      "p-value:  1.0937085423144506e-09\n",
      "Null hypothesis rejected: the difference is statistically significant\n"
     ]
    }
   ],
   "source": [
    "test(a_group['missed_calls_cnt_%'], b_group['missed_calls_cnt_%'])"
   ]
  },
  {
   "cell_type": "code",
   "execution_count": 53,
   "metadata": {},
   "outputs": [],
   "source": [
    "for i in operators_incalls.index:\n",
    "    if operators_incalls.loc[i, 'waiting_time_avg']<mean:\n",
    "        operators_incalls.loc[i, 'group'] = 'avg waiting time < 50 sec'\n",
    "    else:\n",
    "        operators_incalls.loc[i, 'group'] = 'avg waiting time > 50 sec'"
   ]
  },
  {
   "cell_type": "code",
   "execution_count": 54,
   "metadata": {},
   "outputs": [
    {
     "data": {
      "text/plain": [
       "<seaborn.axisgrid.FacetGrid at 0x7f388eb81290>"
      ]
     },
     "execution_count": 54,
     "metadata": {},
     "output_type": "execute_result"
    },
    {
     "data": {
      "image/png": "[encoded data removed]",
      "text/plain": [
       "<Figure size 526.875x360 with 1 Axes>"
      ]
     },
     "metadata": {
      "needs_background": "light"
     },
     "output_type": "display_data"
    }
   ],
   "source": [
    "sns.relplot(x=\"waiting_time_avg\", y=\"missed_calls\", hue=\"group\", data=operators_incalls)"
   ]
  },
  {
   "cell_type": "markdown",
   "metadata": {},
   "source": [
    "<div style=\"background-color:rgb(202, 225, 246); text-align:left; border-style: dotted solid; vertical-align: middle; padding:20px 10px;\">\n",
    "According to the result of the test, there is a statistically significant difference in missed calls percentage in groups of operators (1) with average waiting time less than 50 sec and (2) with average waiting time more than 50 sec   </div>"
   ]
  },
  {
   "cell_type": "markdown",
   "metadata": {},
   "source": [
    "### 2nd hypothesis"
   ]
  },
  {
   "cell_type": "markdown",
   "metadata": {},
   "source": [
    "<div style=\"background-color:rgb(202, 225, 246); text-align:left; border-style: dotted solid; vertical-align: middle; padding:20px 10px;\">\n",
    "<strong>2rd hypothesis</strong>: checking the clients's patience depending on their tarif\n",
    "<p>- Null: the mean value of missed incoming calls from A (cheap one) tariff does not differ from the mean value of missed incoming calls from C (expensive one) tariff plan.\n",
    "<p>- Alternative: the mean value of missed incoming calls from A (cheap one) tariff differs from the mean value of missed incoming calls from C (expensive one) tariff plan.\n",
    "\n",
    "Steps:\n",
    "\n",
    "1. To split data into categories according to the tariff plan. \n",
    "2. To calculate mean value of missed calls for all groups.\n",
    "3. To check statisical significance of variations.\n",
    "4. To draw conclusions concerning the correlation between tariff plan and the number of missed calls.\n",
    "    \n",
    "</div>"
   ]
  },
  {
   "cell_type": "code",
   "execution_count": 55,
   "metadata": {},
   "outputs": [
    {
     "data": {
      "text/html": [
       "<div>\n",
       "<style scoped>\n",
       "    .dataframe tbody tr th:only-of-type {\n",
       "        vertical-align: middle;\n",
       "    }\n",
       "\n",
       "    .dataframe tbody tr th {\n",
       "        vertical-align: top;\n",
       "    }\n",
       "\n",
       "    .dataframe thead th {\n",
       "        text-align: right;\n",
       "    }\n",
       "</style>\n",
       "<table border=\"1\" class=\"dataframe\">\n",
       "  <thead>\n",
       "    <tr style=\"text-align: right;\">\n",
       "      <th></th>\n",
       "      <th>missed_calls_cnt</th>\n",
       "      <th>total_calls</th>\n",
       "      <th>avg_missed_calls</th>\n",
       "      <th>missed_calls_cnt_%</th>\n",
       "    </tr>\n",
       "    <tr>\n",
       "      <th>tariff_plan</th>\n",
       "      <th></th>\n",
       "      <th></th>\n",
       "      <th></th>\n",
       "      <th></th>\n",
       "    </tr>\n",
       "  </thead>\n",
       "  <tbody>\n",
       "    <tr>\n",
       "      <td>A</td>\n",
       "      <td>1250</td>\n",
       "      <td>4395</td>\n",
       "      <td>0.284414</td>\n",
       "      <td>28.441411</td>\n",
       "    </tr>\n",
       "    <tr>\n",
       "      <td>B</td>\n",
       "      <td>2854</td>\n",
       "      <td>6636</td>\n",
       "      <td>0.430078</td>\n",
       "      <td>43.007836</td>\n",
       "    </tr>\n",
       "    <tr>\n",
       "      <td>C</td>\n",
       "      <td>3452</td>\n",
       "      <td>8191</td>\n",
       "      <td>0.421438</td>\n",
       "      <td>42.143816</td>\n",
       "    </tr>\n",
       "  </tbody>\n",
       "</table>\n",
       "</div>"
      ],
      "text/plain": [
       "             missed_calls_cnt  total_calls  avg_missed_calls  \\\n",
       "tariff_plan                                                    \n",
       "A                        1250         4395          0.284414   \n",
       "B                        2854         6636          0.430078   \n",
       "C                        3452         8191          0.421438   \n",
       "\n",
       "             missed_calls_cnt_%  \n",
       "tariff_plan                      \n",
       "A                     28.441411  \n",
       "B                     43.007836  \n",
       "C                     42.143816  "
      ]
     },
     "execution_count": 55,
     "metadata": {},
     "output_type": "execute_result"
    }
   ],
   "source": [
    "tariff_users"
   ]
  },
  {
   "cell_type": "code",
   "execution_count": 56,
   "metadata": {},
   "outputs": [],
   "source": [
    "a_group_2 = incoming_calls_2.query('tariff_plan == \"A\"')\n",
    "b_group_2 = incoming_calls_2.query('tariff_plan == \"C\"')"
   ]
  },
  {
   "cell_type": "code",
   "execution_count": 57,
   "metadata": {},
   "outputs": [
    {
     "name": "stdout",
     "output_type": "stream",
     "text": [
      "p-value:  3.902622461752701e-52\n",
      "Null hypothesis rejected: the difference is statistically significant\n"
     ]
    }
   ],
   "source": [
    "test(a_group_2['is_missed_call'], b_group_2['is_missed_call'])"
   ]
  },
  {
   "cell_type": "markdown",
   "metadata": {},
   "source": [
    "<div style=\"background-color:rgb(202, 225, 246); text-align:left; border-style: dotted solid; vertical-align: middle; padding:20px 10px;\">\n",
    "According to the result of the test, there is a statistically significant difference in missed calls percentage in groups of users (1) on A tariff plan (cheap) (2) on B tariff plan (expensive)</div>"
   ]
  },
  {
   "cell_type": "markdown",
   "metadata": {},
   "source": [
    "### 3th hypothesis"
   ]
  },
  {
   "cell_type": "markdown",
   "metadata": {},
   "source": [
    "<div style=\"background-color:rgb(202, 225, 246); text-align:left; border-style: dotted solid; vertical-align: middle; padding:20px 10px;\">\n",
    "<strong>3th hypothesis</strong>:\n",
    "<p>- Null: the mean value of number of missed calls from operators with many outgoing calls does not differ from the mean value of number of missed calls from operators with few outgoing  calls\n",
    "<p>- Alternative: the mean value of missed incoming calls from A (cheap one) tariff differs from the mean value of missed incoming calls from C (expensive one) tariff plan.\n",
    "\n",
    "Steps:\n",
    "\n",
    "1. To make a data slice with operators who are supposed to make outgoing calls.\n",
    "2. To calculate the mean value of number of outgoing calls.\n",
    "3. To split operators in to groups (with the number of outgoing calls that less than the general mean value and with the number of outgoing calls that more than the general mean value).\n",
    "3. To calculate the mean value of missed calls for each group. \n",
    "4. To check statisical significance of variations.\n",
    "5. To draw conclusions concerning the correlation between the outgoing calls and the number of missed calls. </div>"
   ]
  },
  {
   "cell_type": "code",
   "execution_count": 58,
   "metadata": {},
   "outputs": [
    {
     "data": {
      "text/html": [
       "<div>\n",
       "<style scoped>\n",
       "    .dataframe tbody tr th:only-of-type {\n",
       "        vertical-align: middle;\n",
       "    }\n",
       "\n",
       "    .dataframe tbody tr th {\n",
       "        vertical-align: top;\n",
       "    }\n",
       "\n",
       "    .dataframe thead th {\n",
       "        text-align: right;\n",
       "    }\n",
       "</style>\n",
       "<table border=\"1\" class=\"dataframe\">\n",
       "  <thead>\n",
       "    <tr style=\"text-align: right;\">\n",
       "      <th></th>\n",
       "      <th>operator_id</th>\n",
       "      <th>calls_count_avg</th>\n",
       "      <th>call_duration_avg</th>\n",
       "      <th>total_call_duration_avg</th>\n",
       "      <th>waiting_time_avg</th>\n",
       "      <th>missed_calls_cnt</th>\n",
       "      <th>total_calls_cnt</th>\n",
       "      <th>direction_in</th>\n",
       "      <th>direction_total</th>\n",
       "      <th>direction_out</th>\n",
       "    </tr>\n",
       "  </thead>\n",
       "  <tbody>\n",
       "    <tr>\n",
       "      <td>0</td>\n",
       "      <td>879896.0</td>\n",
       "      <td>5.508772</td>\n",
       "      <td>367.008772</td>\n",
       "      <td>452.026316</td>\n",
       "      <td>85.017544</td>\n",
       "      <td>47</td>\n",
       "      <td>114</td>\n",
       "      <td>21</td>\n",
       "      <td>114</td>\n",
       "      <td>93</td>\n",
       "    </tr>\n",
       "    <tr>\n",
       "      <td>1</td>\n",
       "      <td>879898.0</td>\n",
       "      <td>20.502674</td>\n",
       "      <td>462.010695</td>\n",
       "      <td>811.187166</td>\n",
       "      <td>349.176471</td>\n",
       "      <td>87</td>\n",
       "      <td>187</td>\n",
       "      <td>56</td>\n",
       "      <td>187</td>\n",
       "      <td>131</td>\n",
       "    </tr>\n",
       "    <tr>\n",
       "      <td>2</td>\n",
       "      <td>880020.0</td>\n",
       "      <td>2.250000</td>\n",
       "      <td>112.250000</td>\n",
       "      <td>126.250000</td>\n",
       "      <td>14.000000</td>\n",
       "      <td>6</td>\n",
       "      <td>20</td>\n",
       "      <td>7</td>\n",
       "      <td>20</td>\n",
       "      <td>13</td>\n",
       "    </tr>\n",
       "    <tr>\n",
       "      <td>3</td>\n",
       "      <td>880022.0</td>\n",
       "      <td>2.814286</td>\n",
       "      <td>216.385714</td>\n",
       "      <td>270.357143</td>\n",
       "      <td>53.971429</td>\n",
       "      <td>29</td>\n",
       "      <td>70</td>\n",
       "      <td>8</td>\n",
       "      <td>70</td>\n",
       "      <td>62</td>\n",
       "    </tr>\n",
       "    <tr>\n",
       "      <td>4</td>\n",
       "      <td>880026.0</td>\n",
       "      <td>12.263736</td>\n",
       "      <td>842.450549</td>\n",
       "      <td>964.428571</td>\n",
       "      <td>121.978022</td>\n",
       "      <td>87</td>\n",
       "      <td>182</td>\n",
       "      <td>18</td>\n",
       "      <td>182</td>\n",
       "      <td>164</td>\n",
       "    </tr>\n",
       "  </tbody>\n",
       "</table>\n",
       "</div>"
      ],
      "text/plain": [
       "   operator_id  calls_count_avg  call_duration_avg  total_call_duration_avg  \\\n",
       "0     879896.0         5.508772         367.008772               452.026316   \n",
       "1     879898.0        20.502674         462.010695               811.187166   \n",
       "2     880020.0         2.250000         112.250000               126.250000   \n",
       "3     880022.0         2.814286         216.385714               270.357143   \n",
       "4     880026.0        12.263736         842.450549               964.428571   \n",
       "\n",
       "   waiting_time_avg  missed_calls_cnt  total_calls_cnt  direction_in  \\\n",
       "0         85.017544                47              114            21   \n",
       "1        349.176471                87              187            56   \n",
       "2         14.000000                 6               20             7   \n",
       "3         53.971429                29               70             8   \n",
       "4        121.978022                87              182            18   \n",
       "\n",
       "   direction_total  direction_out  \n",
       "0              114             93  \n",
       "1              187            131  \n",
       "2               20             13  \n",
       "3               70             62  \n",
       "4              182            164  "
      ]
     },
     "execution_count": 58,
     "metadata": {},
     "output_type": "execute_result"
    }
   ],
   "source": [
    "operators_with_in_out_calls.head()"
   ]
  },
  {
   "cell_type": "code",
   "execution_count": 59,
   "metadata": {},
   "outputs": [
    {
     "data": {
      "text/plain": [
       "22.0"
      ]
     },
     "execution_count": 59,
     "metadata": {},
     "output_type": "execute_result"
    }
   ],
   "source": [
    "median_out_calls= operators_with_in_out_calls.direction_out.median()\n",
    "median_out_calls"
   ]
  },
  {
   "cell_type": "code",
   "execution_count": 60,
   "metadata": {},
   "outputs": [],
   "source": [
    "a_group_3 = operators_with_in_out_calls.query('direction_out<@median_out_calls')\n",
    "b_group_3 = operators_with_in_out_calls.query('direction_out>@median_out_calls')"
   ]
  },
  {
   "cell_type": "code",
   "execution_count": 61,
   "metadata": {},
   "outputs": [
    {
     "data": {
      "text/plain": [
       "4.270370370370371"
      ]
     },
     "execution_count": 61,
     "metadata": {},
     "output_type": "execute_result"
    }
   ],
   "source": [
    "a_group_3['missed_calls_cnt'].mean()"
   ]
  },
  {
   "cell_type": "code",
   "execution_count": 62,
   "metadata": {},
   "outputs": [
    {
     "data": {
      "text/plain": [
       "33.4812030075188"
      ]
     },
     "execution_count": 62,
     "metadata": {},
     "output_type": "execute_result"
    }
   ],
   "source": [
    "b_group_3['missed_calls_cnt'].mean()"
   ]
  },
  {
   "cell_type": "code",
   "execution_count": 63,
   "metadata": {},
   "outputs": [
    {
     "name": "stdout",
     "output_type": "stream",
     "text": [
      "p-value:  4.264414235635392e-86\n",
      "Null hypothesis rejected: the difference is statistically significant\n"
     ]
    }
   ],
   "source": [
    "test(a_group_3['missed_calls_cnt'], b_group_3['missed_calls_cnt'])"
   ]
  },
  {
   "cell_type": "code",
   "execution_count": 64,
   "metadata": {
    "scrolled": true
   },
   "outputs": [
    {
     "data": {
      "image/png": "[encoded data removed]",
      "text/plain": [
       "<Figure size 479.875x360 with 1 Axes>"
      ]
     },
     "metadata": {
      "needs_background": "light"
     },
     "output_type": "display_data"
    }
   ],
   "source": [
    "g = sns.relplot(x=\"direction_out\", y=\"missed_calls_cnt\", hue=\"missed_calls_cnt\", data=operators_with_in_out_calls)\n",
    "g.fig.suptitle('Correlation of missed calls and number of outgoing calls')\n",
    "plt.show()"
   ]
  },
  {
   "cell_type": "markdown",
   "metadata": {},
   "source": [
    "<div style=\"background-color:rgb(202, 225, 246); text-align:left; border-style: dotted solid; vertical-align: middle; padding:20px 10px;\">\n",
    "According to the result of the test, there is a statistically significant difference in missed calls number in groups of operators (1) with less than 15 outgoing calls in average (2)  with more than 15 outgoing calls in average</div>"
   ]
  },
  {
   "cell_type": "markdown",
   "metadata": {},
   "source": [
    "### 4th hypothesis"
   ]
  },
  {
   "cell_type": "markdown",
   "metadata": {},
   "source": [
    "<div style=\"background-color:rgb(202, 225, 246); text-align:left; border-style: dotted solid; vertical-align: middle; padding:20px 10px;\">\n",
    "<p>- Null: There is no significant change in average missed calls number when the average call duration is more than <strong>value</strong> or when the average call duration is less than <strong>value</strong> (the value will be defined after exploratory analysis).\n",
    "<p>- Alternative: The average missing calls number changes when the average calls duration is more than <strong>value</strong> and when the average call duration is less than <strong>value</strong>\n",
    " \n",
    "Steps:\n",
    "    \n",
    "1. To find the mean value of calls duration.\n",
    "2. To use this data to split operators into 2 categories: with mean calls duration more than general mean value and with the mean calls duration less than general mean value.\n",
    "3. To calculate the mean value of missed calls for each group.\n",
    "4. To check statisical significance of variations.\n",
    "5. To draw conclusions concerning the correlation between call count and the number of missed calls. \n",
    "    \n",
    "    \n",
    "<p> It is significant to mention that call duration and missed calls will be calculated for both incoming and outgoing calls    \n",
    "</div>\n",
    "    "
   ]
  },
  {
   "cell_type": "code",
   "execution_count": 65,
   "metadata": {},
   "outputs": [
    {
     "data": {
      "text/plain": [
       "335.5670382085529"
      ]
     },
     "metadata": {},
     "output_type": "display_data"
    },
    {
     "data": {
      "text/plain": [
       "222.9689709347997"
      ]
     },
     "metadata": {},
     "output_type": "display_data"
    }
   ],
   "source": [
    "mean = operators.call_duration_avg.mean()\n",
    "median = operators.call_duration_avg.median()\n",
    "display(mean, median)"
   ]
  },
  {
   "cell_type": "code",
   "execution_count": 66,
   "metadata": {},
   "outputs": [],
   "source": [
    "a_group_4 = operators.query('call_duration_avg<@median')\n",
    "b_group_4 = operators.query('call_duration_avg>=@median')"
   ]
  },
  {
   "cell_type": "code",
   "execution_count": 67,
   "metadata": {},
   "outputs": [
    {
     "name": "stdout",
     "output_type": "stream",
     "text": [
      "Mean value of missed calls (a group): 4.895604395604396\n",
      "Mean value of missed calls (b group): 19.399267399267398\n"
     ]
    }
   ],
   "source": [
    "print('Mean value of missed calls (a group): {}'.format(a_group_4.missed_calls_cnt.mean()))\n",
    "print('Mean value of missed calls (b group): {}'.format(b_group_4.missed_calls_cnt.mean()))"
   ]
  },
  {
   "cell_type": "code",
   "execution_count": 68,
   "metadata": {},
   "outputs": [
    {
     "name": "stdout",
     "output_type": "stream",
     "text": [
      "p-value:  4.8735322138082165e-61\n",
      "Null hypothesis rejected: the difference is statistically significant\n"
     ]
    }
   ],
   "source": [
    "test(a_group_4['missed_calls_cnt'], b_group_4['missed_calls_cnt'])"
   ]
  },
  {
   "cell_type": "code",
   "execution_count": 69,
   "metadata": {},
   "outputs": [],
   "source": [
    "for i in operators.index:\n",
    "    if operators.loc[i, 'total_call_duration_avg']<median:\n",
    "        operators.loc[i, 'group'] = 'Call duration is less 223 sec'\n",
    "    else:\n",
    "        operators.loc[i, 'group'] = 'Call duration is more 223 sec'"
   ]
  },
  {
   "cell_type": "code",
   "execution_count": 70,
   "metadata": {},
   "outputs": [
    {
     "data": {
      "image/png": "[encoded data removed]",
      "text/plain": [
       "<Figure size 542.375x360 with 1 Axes>"
      ]
     },
     "metadata": {
      "needs_background": "light"
     },
     "output_type": "display_data"
    }
   ],
   "source": [
    "g = sns.relplot(x=\"total_call_duration_avg\", y=\"missed_calls_cnt\", hue='group', size=\"missed_calls_cnt\", data=operators)\n",
    "g.fig.suptitle('Correlation of missed calls and call duration')\n",
    "plt.show()"
   ]
  },
  {
   "cell_type": "markdown",
   "metadata": {},
   "source": [
    "<div style=\"background-color:rgb(202, 225, 246); text-align:left; border-style: dotted solid; vertical-align: middle; padding:20px 10px;\">\n",
    "According to the result of the test, there is a statistically significant difference in average missed calls number for operators with average call duration more than  290 sec and less than 290 sec</div>"
   ]
  },
  {
   "cell_type": "markdown",
   "metadata": {},
   "source": [
    "<div style=\"background-color:rgb(247, 194, 87); text-align:left; border-style: dotted solid; vertical-align: middle; padding:20px 10px;\">\n",
    "    <strong>General conclusions on Hypothesis testing stage:</strong>\n",
    "    <ol>\n",
    "        <li>The call with longer waiting time is more likely to be missed </li>\n",
    "        <li>The average percentage of missed calls is higher for users on expensive (C) tariff plan rather than on cheap (A) tariff plan</li>\n",
    "        <li>The average number of missed calls is more for operators who process more outgoing calls</li>\n",
    "        <li>The average number of missed calls is more for operators with greater call duration.</li>\n",
    "    </ol>\n",
    "</div>"
   ]
  },
  {
   "cell_type": "markdown",
   "metadata": {},
   "source": [
    "## Applying machine learning  <a class=\"anchor\" id=\"chapter4\"></a>"
   ]
  },
  {
   "cell_type": "markdown",
   "metadata": {},
   "source": [
    "<div style=\"background-color:rgb(202, 225, 246); text-align:left; border-style: dotted solid; vertical-align: middle; padding:20px 10px;\">We can try to apply clustering in order to split operators intro groups based on various parameters. Perhaps, we will define the typical portrait of an effective and ineffective operator.</div>"
   ]
  },
  {
   "cell_type": "markdown",
   "metadata": {},
   "source": [
    "<div style=\"background-color:rgb(202, 225, 246); text-align:left; border-style: dotted solid; vertical-align: middle; padding:20px 10px;\">I will apply clustering algorithm on operator oriented dataset (containing only the incoming calls).</div>"
   ]
  },
  {
   "cell_type": "code",
   "execution_count": 71,
   "metadata": {},
   "outputs": [],
   "source": [
    "X = operators.drop(['operator_id', 'call_duration_avg', 'total_call_duration_avg', 'group'], axis=1)\n",
    "X_upd = X.query('direction_out == 0')\n",
    "X_upd = X_upd.dropna()\n",
    "sc = StandardScaler()\n",
    "X_sc = sc.fit_transform(X_upd)"
   ]
  },
  {
   "cell_type": "code",
   "execution_count": 72,
   "metadata": {},
   "outputs": [],
   "source": [
    "linked = linkage(X_sc, method = 'ward')"
   ]
  },
  {
   "cell_type": "code",
   "execution_count": 73,
   "metadata": {},
   "outputs": [
    {
     "data": {
      "image/png": "[encoded data removed]",
      "text/plain": [
       "<Figure size 1080x720 with 1 Axes>"
      ]
     },
     "metadata": {
      "needs_background": "light"
     },
     "output_type": "display_data"
    }
   ],
   "source": [
    "plt.figure(figsize=(15, 10))  \n",
    "dendrogram(linked, orientation='top')\n",
    "plt.title('Hierarchical clustering for GYM')\n",
    "plt.show() "
   ]
  },
  {
   "cell_type": "code",
   "execution_count": 74,
   "metadata": {},
   "outputs": [],
   "source": [
    "km = KMeans(n_clusters = 2) \n",
    "labels = km.fit_predict(X_sc)\n",
    "final_with_clasters = operators.query('direction_out == 0').dropna()\n",
    "final_with_clasters['cluster'] = labels"
   ]
  },
  {
   "cell_type": "code",
   "execution_count": 75,
   "metadata": {},
   "outputs": [
    {
     "data": {
      "text/html": [
       "<div>\n",
       "<style scoped>\n",
       "    .dataframe tbody tr th:only-of-type {\n",
       "        vertical-align: middle;\n",
       "    }\n",
       "\n",
       "    .dataframe tbody tr th {\n",
       "        vertical-align: top;\n",
       "    }\n",
       "\n",
       "    .dataframe thead th {\n",
       "        text-align: right;\n",
       "    }\n",
       "</style>\n",
       "<table border=\"1\" class=\"dataframe\">\n",
       "  <thead>\n",
       "    <tr style=\"text-align: right;\">\n",
       "      <th></th>\n",
       "      <th>operator_id</th>\n",
       "      <th>calls_count_avg</th>\n",
       "      <th>call_duration_avg</th>\n",
       "      <th>total_call_duration_avg</th>\n",
       "      <th>waiting_time_avg</th>\n",
       "      <th>missed_calls_cnt</th>\n",
       "      <th>total_calls_cnt</th>\n",
       "      <th>direction_in</th>\n",
       "      <th>direction_total</th>\n",
       "      <th>direction_out</th>\n",
       "    </tr>\n",
       "    <tr>\n",
       "      <th>cluster</th>\n",
       "      <th></th>\n",
       "      <th></th>\n",
       "      <th></th>\n",
       "      <th></th>\n",
       "      <th></th>\n",
       "      <th></th>\n",
       "      <th></th>\n",
       "      <th></th>\n",
       "      <th></th>\n",
       "      <th></th>\n",
       "    </tr>\n",
       "  </thead>\n",
       "  <tbody>\n",
       "    <tr>\n",
       "      <td>0</td>\n",
       "      <td>913592.080000</td>\n",
       "      <td>1.526549</td>\n",
       "      <td>129.654861</td>\n",
       "      <td>162.304265</td>\n",
       "      <td>63.807707</td>\n",
       "      <td>0.352</td>\n",
       "      <td>7.496000</td>\n",
       "      <td>7.496000</td>\n",
       "      <td>7.496000</td>\n",
       "      <td>0.0</td>\n",
       "    </tr>\n",
       "    <tr>\n",
       "      <td>1</td>\n",
       "      <td>912246.166667</td>\n",
       "      <td>2.931291</td>\n",
       "      <td>327.517394</td>\n",
       "      <td>377.872768</td>\n",
       "      <td>71.949258</td>\n",
       "      <td>1.750</td>\n",
       "      <td>44.041667</td>\n",
       "      <td>44.041667</td>\n",
       "      <td>44.041667</td>\n",
       "      <td>0.0</td>\n",
       "    </tr>\n",
       "  </tbody>\n",
       "</table>\n",
       "</div>"
      ],
      "text/plain": [
       "           operator_id  calls_count_avg  call_duration_avg  \\\n",
       "cluster                                                      \n",
       "0        913592.080000         1.526549         129.654861   \n",
       "1        912246.166667         2.931291         327.517394   \n",
       "\n",
       "         total_call_duration_avg  waiting_time_avg  missed_calls_cnt  \\\n",
       "cluster                                                                \n",
       "0                     162.304265         63.807707             0.352   \n",
       "1                     377.872768         71.949258             1.750   \n",
       "\n",
       "         total_calls_cnt  direction_in  direction_total  direction_out  \n",
       "cluster                                                                 \n",
       "0               7.496000      7.496000         7.496000            0.0  \n",
       "1              44.041667     44.041667        44.041667            0.0  "
      ]
     },
     "execution_count": 75,
     "metadata": {},
     "output_type": "execute_result"
    }
   ],
   "source": [
    "cluster_mean_features = final_with_clasters.groupby('cluster').mean()\n",
    "cluster_mean_features"
   ]
  },
  {
   "cell_type": "markdown",
   "metadata": {},
   "source": [
    "<div style=\"background-color:rgb(202, 225, 246); text-align:left; border-style: dotted solid; vertical-align: middle; padding:20px 10px;\">Based on the results of clustering algorithm, one may conclude that there are two types operators:\n",
    "\n",
    "<p>1. Operators with shorter average waiting time (for incoming calls) with shorter average call duration with smaller average total number of calls and with smaller average number of missed calls.\n",
    "<p>2. Operators with longer average waiting time (for incoming calls) with longer average call duration with lower average total number of calls and with greater average number of missed calls.\n",
    "    \n",
    "<p>Please look at the diagonal in the pairplot below for better visualisation\n",
    "\n",
    "</div>"
   ]
  },
  {
   "cell_type": "code",
   "execution_count": 76,
   "metadata": {},
   "outputs": [
    {
     "data": {
      "text/plain": [
       "<seaborn.axisgrid.PairGrid at 0x7f388ea87a90>"
      ]
     },
     "execution_count": 76,
     "metadata": {},
     "output_type": "execute_result"
    },
    {
     "data": {
      "image/png": "[encoded data removed]",
      "text/plain": [
       "<Figure size 942.375x900 with 30 Axes>"
      ]
     },
     "metadata": {
      "needs_background": "light"
     },
     "output_type": "display_data"
    }
   ],
   "source": [
    "sns.pairplot(final_with_clasters[['calls_count_avg', 'total_call_duration_avg', 'waiting_time_avg', 'missed_calls_cnt', 'cluster']], hue='cluster')\n",
    "\n",
    "\n"
   ]
  },
  {
   "cell_type": "markdown",
   "metadata": {},
   "source": [
    "<div style=\"background-color:rgb(247, 194, 87); text-align:left; border-style: dotted solid; vertical-align: middle; padding:20px 10px;\">\n",
    "<p>In attempt to connect these results with the effectivity issue, I would suggest that longer average waiting time for incoming call indeed may lead to greater average number of missed incoming calls that in turn indicates lower effectivity of operator.\n",
    "    \n",
    "<p> On the other hand, another parameters such as longer average call duration (that is not connected with operator effectivity) might lead to the lower average total number of calls and also to the greater average number of missed calls (actually it was proved by the 4th hypothesis test).\n",
    "    \n",
    "</div>"
   ]
  },
  {
   "cell_type": "markdown",
   "metadata": {},
   "source": [
    "## General conclusions and recommendations  <a class=\"anchor\" id=\"chapter5\"></a>"
   ]
  },
  {
   "cell_type": "markdown",
   "metadata": {},
   "source": [
    "The goal of the research was to identify ineffective operators in the virtual telephony service CallMeMaybe based on three major parameters:\n",
    "\n",
    "- the number of missed calls,\n",
    "- waiting time for incoming calls,\n",
    "- number of outgoing calls (if it is relevant for a particular operator).\n",
    "\n",
    "Accoring to the analysis, operator misses in average 12 calls (both incoming and outgoing), the median value for missed calls per operator is 5 calls. However, it is significant to mention that if we speak only about incoming calls, in average operator misses 0.8 calls (median - 0). That means that most of missing calls are for outgoing calls (when operator cannot reach user for some external reason). In other words, the missed outgoing calls cannot indicate ineffectivity of operator (in case it is not any technical issue that we are not able to detect looking at the current dataset). \n",
    "\n",
    "Based on the results of hypotheses tests and clustering algorithm I may coclude that the average number of missed called correlates with the waiting time per operator (for incoming calls), average call duration per operator (for both incoming and outgoing calls), average number of calls in sequence. \n",
    "\n",
    "The issue is that call duration is user-oriented parameter and it cannot indicate operator's effectivity. Nevetheless, the call duration (as proved in Hypothesis 4 test) does influence the number of missed calls (that is supposedly the major indicator of operator's effectivity).\n",
    "\n",
    "I may assume that the following sequence of events may result in high number of missed calls for a particular operator:\n",
    "\n",
    "<strong>longer call duration --> longer waiting time --> greater number of missed calls</strong>\n",
    "\n",
    "Additionally, I have noticed that (3rd hypothesis test) the average number of missed calls is greater for operators who process more outgoing calls. It seems logical because taking into account the general effectivity of operators for incoming calls (average missed calls is less than 1) one may assume that missed calls number in most cases is correlated with user's activity factor.\n",
    "\n",
    "Moreover, (2nd hypothesis test) one may assume that the number of missed calls can correlate with various expectations and patience level of user on different tariff plans. I may suggest that users on more expensive tariff plan expect less waiting time that is why the number of missed calls can be higher for incoming calls for them,other things being equal.\n",
    "\n",
    "To conclude, the idea of effectivity identification of operator can be paraphrased as the idea of <strong>identification of problematic situations</strong> (such as extremely long call duration, long waiting time for C tariff users and so on) with the aim of developing better algorithms to avoid such problematic situations.\n",
    "\n",
    "In light of the above I would suggest:\n",
    "- to analyse larger dataset of incoming calls for higher accuracy of results.\n",
    "- to analyse deeper users behaviour (for instance, to try find any correlations for new and old users based on the different between the registration date and call date) and to define problematic situations based on combination of several parameters (call duration+outgoing direction, call duration + C tariff user, waiting time and old user and so on).\n",
    "\n",
    "Based on the conclusions from the current research I would suggest to develop better algorithms to redirect the calls to less \"busy\"(with smaller waiting time) operator in order to avoid <strong>problematic situations</strong> discussed above. \n",
    "\n"
   ]
  }
 ],
 "metadata": {
  "kernelspec": {
   "display_name": "Python 3",
   "language": "python",
   "name": "python3"
  },
  "language_info": {
   "codemirror_mode": {
    "name": "ipython",
    "version": 3
   },
   "file_extension": ".py",
   "mimetype": "text/x-python",
   "name": "python",
   "nbconvert_exporter": "python",
   "pygments_lexer": "ipython3",
   "version": "3.8.3"
  },
  "toc": {
   "base_numbering": 1,
   "nav_menu": {},
   "number_sections": true,
   "sideBar": true,
   "skip_h1_title": true,
   "title_cell": "Table of Contents",
   "title_sidebar": "Contents",
   "toc_cell": false,
   "toc_position": {
    "height": "calc(100% - 180px)",
    "left": "10px",
    "top": "150px",
    "width": "236.25px"
   },
   "toc_section_display": true,
   "toc_window_display": true
  }
 },
 "nbformat": 4,
 "nbformat_minor": 2
}
